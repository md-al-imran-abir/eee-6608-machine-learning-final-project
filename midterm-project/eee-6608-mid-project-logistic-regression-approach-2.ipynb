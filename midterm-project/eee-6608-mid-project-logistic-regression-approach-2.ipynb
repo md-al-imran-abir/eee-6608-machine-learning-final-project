{
 "cells": [
  {
   "cell_type": "code",
   "execution_count": 1,
   "id": "6caa2054",
   "metadata": {
    "_cell_guid": "b1076dfc-b9ad-4769-8c92-a6c4dae69d19",
    "_uuid": "8f2839f25d086af736a60e9eeb907d3b93b6e0e5",
    "execution": {
     "iopub.execute_input": "2022-02-12T14:41:34.270231Z",
     "iopub.status.busy": "2022-02-12T14:41:34.269584Z",
     "iopub.status.idle": "2022-02-12T14:41:35.411365Z",
     "shell.execute_reply": "2022-02-12T14:41:35.410675Z",
     "shell.execute_reply.started": "2022-02-12T07:07:40.668699Z"
    },
    "papermill": {
     "duration": 1.175951,
     "end_time": "2022-02-12T14:41:35.411588",
     "exception": false,
     "start_time": "2022-02-12T14:41:34.235637",
     "status": "completed"
    },
    "tags": []
   },
   "outputs": [],
   "source": [
    "import numpy as np # linear algebra\n",
    "import h5py\n",
    "import matplotlib.pyplot as plt\n",
    "from sklearn.model_selection import train_test_split\n",
    "import time\n",
    "%matplotlib inline\n",
    "\n",
    "# Random state seed\n",
    "seed = 1234"
   ]
  },
  {
   "cell_type": "code",
   "execution_count": 2,
   "id": "899fc864",
   "metadata": {
    "execution": {
     "iopub.execute_input": "2022-02-12T14:41:35.459507Z",
     "iopub.status.busy": "2022-02-12T14:41:35.458528Z",
     "iopub.status.idle": "2022-02-12T14:41:35.465493Z",
     "shell.execute_reply": "2022-02-12T14:41:35.466009Z",
     "shell.execute_reply.started": "2022-02-12T07:07:42.006900Z"
    },
    "papermill": {
     "duration": 0.032651,
     "end_time": "2022-02-12T14:41:35.466170",
     "exception": false,
     "start_time": "2022-02-12T14:41:35.433519",
     "status": "completed"
    },
    "tags": []
   },
   "outputs": [],
   "source": [
    "def load_dataset():\n",
    " train_dataset = h5py.File('/kaggle/input/happy-dataset/train_happy.h5', \"r\")\n",
    " test_dataset = h5py.File('/kaggle/input/happy-dataset/test_happy.h5', \"r\")\n",
    "\n",
    " train_set_x_orig = np.array(train_dataset[\"train_set_x\"][:])\n",
    " train_set_y_orig = np.array(train_dataset[\"train_set_y\"][:])\n",
    " test_set_x_orig = np.array(test_dataset[\"test_set_x\"][:])\n",
    " test_set_y_orig = np.array(test_dataset[\"test_set_y\"][:])\n",
    " classes = np.array(test_dataset[\"list_classes\"][:])\n",
    "\n",
    " train_set_y_orig = np.transpose(train_set_y_orig.reshape((1, train_set_y_orig.shape[0])))\n",
    " test_set_y_orig = np.transpose(test_set_y_orig.reshape((1, test_set_y_orig.shape[0])))\n",
    "\n",
    " return train_set_x_orig, train_set_y_orig, test_set_x_orig, test_set_y_orig, classes\n"
   ]
  },
  {
   "cell_type": "code",
   "execution_count": 3,
   "id": "8dfe6e38",
   "metadata": {
    "execution": {
     "iopub.execute_input": "2022-02-12T14:41:35.513968Z",
     "iopub.status.busy": "2022-02-12T14:41:35.513008Z",
     "iopub.status.idle": "2022-02-12T14:41:36.003313Z",
     "shell.execute_reply": "2022-02-12T14:41:36.003794Z",
     "shell.execute_reply.started": "2022-02-12T07:07:42.016720Z"
    },
    "papermill": {
     "duration": 0.515999,
     "end_time": "2022-02-12T14:41:36.003977",
     "exception": false,
     "start_time": "2022-02-12T14:41:35.487978",
     "status": "completed"
    },
    "tags": []
   },
   "outputs": [
    {
     "name": "stdout",
     "output_type": "stream",
     "text": [
      "train set size (600, 64, 64, 3)\n",
      "train label size (600, 1)\n",
      "test set size (150, 64, 64, 3)\n",
      "test label size (150, 1)\n",
      "classes size (2,)\n",
      "[0 1]\n",
      "[1]\n"
     ]
    },
    {
     "data": {
      "text/plain": [
       "<matplotlib.image.AxesImage at 0x7f581652d910>"
      ]
     },
     "execution_count": 3,
     "metadata": {},
     "output_type": "execute_result"
    },
    {
     "data": {
      "image/png": "[encoded data removed]",
      "text/plain": [
       "<Figure size 432x288 with 1 Axes>"
      ]
     },
     "metadata": {
      "needs_background": "light"
     },
     "output_type": "display_data"
    }
   ],
   "source": [
    "train_set_X, train_set_y, test_set_X, test_set_y, classes = load_dataset()\n",
    "print(\"train set size\", train_set_X.shape)\n",
    "print(\"train label size\", train_set_y.shape)\n",
    "print(\"test set size\", test_set_X.shape)\n",
    "print(\"test label size\", test_set_y.shape)\n",
    "print(\"classes size\", classes.shape)\n",
    "print(classes)\n",
    "print(train_set_y[123])\n",
    "plt.imshow(train_set_X[123])"
   ]
  },
  {
   "cell_type": "code",
   "execution_count": 4,
   "id": "c0f54984",
   "metadata": {
    "execution": {
     "iopub.execute_input": "2022-02-12T14:41:36.056000Z",
     "iopub.status.busy": "2022-02-12T14:41:36.054993Z",
     "iopub.status.idle": "2022-02-12T14:41:36.076796Z",
     "shell.execute_reply": "2022-02-12T14:41:36.075791Z",
     "shell.execute_reply.started": "2022-02-12T07:07:42.469752Z"
    },
    "papermill": {
     "duration": 0.048836,
     "end_time": "2022-02-12T14:41:36.077010",
     "exception": false,
     "start_time": "2022-02-12T14:41:36.028174",
     "status": "completed"
    },
    "tags": []
   },
   "outputs": [
    {
     "name": "stdout",
     "output_type": "stream",
     "text": [
      "Train set size: (480, 64, 64, 3)\n",
      "Validation set size: (120, 64, 64, 3)\n",
      "Train set size: (480, 64, 64, 3)\n",
      "Train label size: (480, 1)\n",
      "Validation set size: (120, 64, 64, 3)\n",
      "Validation set size: (120, 1)\n",
      "Training data shape (480, 12288)\n",
      "Validation data shape (120, 12288)\n",
      "Test data shape (150, 12288)\n"
     ]
    }
   ],
   "source": [
    "def create_validation_set(train_set_X, train_set_y, test_size=0.2, random_state=seed):\n",
    "    \"\"\"\n",
    "    Divides the training set into training and validation set\n",
    "    \n",
    "    Input:\n",
    "    - train_set_X: Training set samples containing only features (no label)\n",
    "    - train_set_y: Training set labels\n",
    "    - test_size: (optional) % of training data to be separated as validation data\n",
    "    \n",
    "    Output:\n",
    "    - X_train: Training samples\n",
    "    - y_train: Training labels\n",
    "    - X_valid: Validation samples\n",
    "    - y_valid: Validation labels\n",
    "    \"\"\"\n",
    "    X_train, X_valid, y_train, y_valid = train_test_split(train_set_X, train_set_y, test_size=test_size, random_state=seed)\n",
    "    print(\"Train set size:\", X_train.shape)\n",
    "    print(\"Validation set size:\", X_valid.shape)\n",
    "    return X_train, y_train, X_valid, y_valid\n",
    "\n",
    "train_X, y_train, valid_X, y_valid = create_validation_set(train_set_X, train_set_y, test_size=0.2)\n",
    "print(\"Train set size:\", train_X.shape)\n",
    "print(\"Train label size:\", y_train.shape)\n",
    "print(\"Validation set size:\", valid_X.shape)\n",
    "print(\"Validation set size:\", y_valid.shape)\n",
    "\n",
    "# Preparing the data\n",
    "X_train = train_X.reshape(480, 64*64*3)\n",
    "X_valid = valid_X.reshape(120, 64*64*3)\n",
    "test_set_X = test_set_X.reshape(150, 64*64*3)\n",
    "print(\"Training data shape\", X_train.shape)\n",
    "print(\"Validation data shape\", X_valid.shape)\n",
    "print(\"Test data shape\", test_set_X.shape)"
   ]
  },
  {
   "cell_type": "code",
   "execution_count": 5,
   "id": "fdcb8f05",
   "metadata": {
    "execution": {
     "iopub.execute_input": "2022-02-12T14:41:36.134750Z",
     "iopub.status.busy": "2022-02-12T14:41:36.128523Z",
     "iopub.status.idle": "2022-02-12T14:41:36.229880Z",
     "shell.execute_reply": "2022-02-12T14:41:36.230620Z",
     "shell.execute_reply.started": "2022-02-12T07:07:42.494615Z"
    },
    "papermill": {
     "duration": 0.129169,
     "end_time": "2022-02-12T14:41:36.230877",
     "exception": false,
     "start_time": "2022-02-12T14:41:36.101708",
     "status": "completed"
    },
    "tags": []
   },
   "outputs": [
    {
     "name": "stdout",
     "output_type": "stream",
     "text": [
      "142.07640957302516\n",
      "81.1476808724206\n",
      "Train size (480, 12288)\n",
      "Maximum of ttrain 1.3915812406827983\n",
      "Mean of ttrain 1.4459883907531118e-16\n",
      "Validation size (120, 12288)\n",
      "Maximum of valid 1.3915812406827983\n",
      "Mean of valid -0.005839414109651343\n",
      "Test size (150, 12288)\n",
      "Maximum of test 1.3915812406827983\n",
      "Mean of test -0.03412769380546628\n"
     ]
    }
   ],
   "source": [
    "def normalization(x, mu, std):\n",
    "    \"\"\"\n",
    "    Normalization\n",
    "    \n",
    "    Input:\n",
    "    - x: data\n",
    "    - mu: average\n",
    "    - std: standard deviation\n",
    "    \n",
    "    Output:\n",
    "    - x_scaled: normalized output\n",
    "    \"\"\"\n",
    "    x_scaled = (x-mu)/std\n",
    "    return x_scaled\n",
    "\n",
    "# Normalize the data\n",
    "mean_X = X_train.mean()\n",
    "print(mean_X)\n",
    "std_X = X_train.std()\n",
    "print(std_X)\n",
    "X_train_scl = normalization(X_train, mean_X, std_X)\n",
    "X_valid_scl = normalization(X_valid, mean_X, std_X)\n",
    "X_test_scl = normalization(test_set_X, mean_X, std_X)\n",
    "print(\"Train size\", X_train_scl.shape)\n",
    "print(\"Maximum of ttrain\", X_train_scl.max())\n",
    "print(\"Mean of ttrain\", X_train_scl.mean())\n",
    "print(\"Validation size\", X_valid_scl.shape)\n",
    "print(\"Maximum of valid\", X_valid_scl.max())\n",
    "print(\"Mean of valid\", X_valid_scl.mean())\n",
    "print(\"Test size\", X_test_scl.shape)\n",
    "print(\"Maximum of test\", X_test_scl.max())\n",
    "print(\"Mean of test\", X_test_scl.mean())"
   ]
  },
  {
   "cell_type": "code",
   "execution_count": 6,
   "id": "22681659",
   "metadata": {
    "execution": {
     "iopub.execute_input": "2022-02-12T14:41:36.286817Z",
     "iopub.status.busy": "2022-02-12T14:41:36.285781Z",
     "iopub.status.idle": "2022-02-12T14:41:36.288782Z",
     "shell.execute_reply": "2022-02-12T14:41:36.288157Z",
     "shell.execute_reply.started": "2022-02-12T07:07:42.631126Z"
    },
    "papermill": {
     "duration": 0.031801,
     "end_time": "2022-02-12T14:41:36.288945",
     "exception": false,
     "start_time": "2022-02-12T14:41:36.257144",
     "status": "completed"
    },
    "tags": []
   },
   "outputs": [],
   "source": [
    "# np.log(np.finfo(type(np.transpose(X_train) @ init_theta)).max)"
   ]
  },
  {
   "cell_type": "code",
   "execution_count": 7,
   "id": "d1d1afa2",
   "metadata": {
    "execution": {
     "iopub.execute_input": "2022-02-12T14:41:36.341771Z",
     "iopub.status.busy": "2022-02-12T14:41:36.341028Z",
     "iopub.status.idle": "2022-02-12T14:41:36.354963Z",
     "shell.execute_reply": "2022-02-12T14:41:36.354341Z",
     "shell.execute_reply.started": "2022-02-12T07:07:42.638352Z"
    },
    "papermill": {
     "duration": 0.041991,
     "end_time": "2022-02-12T14:41:36.355100",
     "exception": false,
     "start_time": "2022-02-12T14:41:36.313109",
     "status": "completed"
    },
    "tags": []
   },
   "outputs": [],
   "source": [
    "# Initialize theta\n",
    "def initialize_theta(no_of_features):\n",
    "    \"\"\"\n",
    "    Initializes the parameters for logistic regression\n",
    "    \n",
    "    Input:\n",
    "    - no_of_features: No of features in training samples\n",
    "    \n",
    "    Output:\n",
    "    - theta: parameters \n",
    "    \"\"\"\n",
    "    theta = np.zeros((no_of_features+1, 1))\n",
    "    return theta\n",
    "\n",
    "def hypothesis(X_train, theta):\n",
    "    \"\"\"\n",
    "    Defines the sigmoid function\n",
    "    \n",
    "    Input:\n",
    "    - X_train: training samples \n",
    "    - theta: parameters\n",
    "    \n",
    "    Output:\n",
    "    - y_hat = prediction\n",
    "    \"\"\"\n",
    "#     y_hat = 1 / (1 + math.exp(-X_train @ theta))\n",
    "    val = X_train @ theta\n",
    "#     y_hat = 1 / (1 + np.exp(-val))\n",
    "    y_hat = .5 * (1 + np.tanh(.5 * val))\n",
    "    return y_hat\n",
    "\n",
    "def calculate_cost(m, y_train, y_hat):\n",
    "    \"\"\"\n",
    "    Calculates the cost function\n",
    "    \n",
    "    Input:\n",
    "    - m: no of samples\n",
    "    - y_train: training label\n",
    "    - y_hat: predicted label\n",
    "    \n",
    "    Output:\n",
    "    - J: Cost\n",
    "    \"\"\"\n",
    "    epsilon = 1e-10 \n",
    "    y_t = y_train.transpose() # transpose of y\n",
    "#     y_hat_t = y_hat.transpose() # transpose of y_hat\n",
    "    J = (-1/m) * (y_t @ np.log(y_hat+epsilon) + (1-y_t) @ np.log(1-y_hat+epsilon))\n",
    "    return J\n",
    "\n",
    "def calculate_gradient(m, X_train, y_train, y_hat):\n",
    "    \"\"\"\n",
    "    Calculates gradient of the cost function for logistic regression\n",
    "    \n",
    "    Input:\n",
    "    - m: no of samples\n",
    "    - X_train: Training features\n",
    "    - y_train: Training labels\n",
    "    - y_hat: Predicted output by the sigmoid function\n",
    "    \n",
    "    Output:\n",
    "    - Del_J: the gradient of the cost function\n",
    "    \"\"\"\n",
    "    trans_X = X_train.transpose()\n",
    "    Del_J = (1/m) * trans_X @ (y_hat - y_train)\n",
    "    return Del_J\n",
    "\n",
    "def update_theta(theta, alpha, del_j):\n",
    "    \"\"\"\n",
    "    Updates logistic regression parameters\n",
    "    \n",
    "    Input: \n",
    "    - theta: parameters\n",
    "    - alpha: learning rate\n",
    "    - del_j: gradient of the cost function\n",
    "    \n",
    "    Output:\n",
    "    - theta_up: Updated parameters\n",
    "    \"\"\"\n",
    "    theta_up = theta - alpha * del_j\n",
    "    return theta_up\n",
    "\n",
    "def gradient_descent(X, y, theta, alpha, iters):\n",
    "    \"\"\"\n",
    "    Performs gradient descent\n",
    "    \n",
    "    Input:\n",
    "    - X: training samples\n",
    "    - y: training labels\n",
    "    - theta: parameters to be updated\n",
    "    - alpha: learning rate\n",
    "    - iters: no of iterations\n",
    "    \n",
    "    Output:\n",
    "    - theta: updated theta\n",
    "    - J: cost \n",
    "    \"\"\"\n",
    "    J = np.zeros(iters)\n",
    "    m = X.shape[0]\n",
    "    for i in range(0, iters):\n",
    "        m = X.shape[0]\n",
    "        y_hat = hypothesis(X, theta)\n",
    "        J[i] = calculate_cost(m=m, y_train=y, y_hat=y_hat)\n",
    "        del_j = calculate_gradient(m=m, X_train=X, y_train=y, y_hat=y_hat)\n",
    "        theta = update_theta(theta, alpha, del_j)\n",
    "    return theta, J"
   ]
  },
  {
   "cell_type": "code",
   "execution_count": 8,
   "id": "1da941b2",
   "metadata": {
    "execution": {
     "iopub.execute_input": "2022-02-12T14:41:36.412551Z",
     "iopub.status.busy": "2022-02-12T14:41:36.411839Z",
     "iopub.status.idle": "2022-02-12T14:42:02.851300Z",
     "shell.execute_reply": "2022-02-12T14:42:02.850777Z",
     "shell.execute_reply.started": "2022-02-12T07:07:42.659928Z"
    },
    "papermill": {
     "duration": 26.471838,
     "end_time": "2022-02-12T14:42:02.851458",
     "exception": false,
     "start_time": "2022-02-12T14:41:36.379620",
     "status": "completed"
    },
    "tags": []
   },
   "outputs": [
    {
     "name": "stdout",
     "output_type": "stream",
     "text": [
      "No of training samples 480\n",
      "No of features 12288\n"
     ]
    },
    {
     "data": {
      "image/png": "[encoded data removed]",
      "text/plain": [
       "<Figure size 432x288 with 1 Axes>"
      ]
     },
     "metadata": {
      "needs_background": "light"
     },
     "output_type": "display_data"
    }
   ],
   "source": [
    "##################\n",
    "# Normalized data\n",
    "##################\n",
    "m = X_train.shape[0] # no of training samples\n",
    "print(\"No of training samples\", m)\n",
    "n = X_train.shape[1] # no of features\n",
    "print(\"No of features\", n)\n",
    "X_train_app = np.c_[np.ones(m), X_train_scl] # append a column of 1\n",
    "X_valid_app = np.c_[np.ones(120), X_valid_scl] # append a column of 1\n",
    "X_test_app = np.c_[np.ones(150), X_test_scl] # append a column of 1\n",
    "alpha = 1e-3 # learning rate\n",
    "iters = 1000 # no of iterations\n",
    "initial_theta = initialize_theta(n)\n",
    "theta, J = gradient_descent(X=X_train_app, y=y_train, theta=initial_theta, alpha=alpha, iters=iters)\n",
    "plt.plot(range(0,iters), J)\n",
    "plt.xlabel(\"Iteration no\")\n",
    "plt.ylabel(\"Loss\")\n",
    "plt.savefig(\"Loss_vs_iteration.png\")"
   ]
  },
  {
   "cell_type": "code",
   "execution_count": 9,
   "id": "453680ff",
   "metadata": {
    "execution": {
     "iopub.execute_input": "2022-02-12T14:42:02.915091Z",
     "iopub.status.busy": "2022-02-12T14:42:02.913935Z",
     "iopub.status.idle": "2022-02-12T14:42:02.918076Z",
     "shell.execute_reply": "2022-02-12T14:42:02.919070Z",
     "shell.execute_reply.started": "2022-02-12T07:08:15.556529Z"
    },
    "papermill": {
     "duration": 0.042519,
     "end_time": "2022-02-12T14:42:02.919419",
     "exception": false,
     "start_time": "2022-02-12T14:42:02.876900",
     "status": "completed"
    },
    "tags": []
   },
   "outputs": [
    {
     "name": "stdout",
     "output_type": "stream",
     "text": [
      "Validation Accuracy 0.9333333333333333\n",
      "Training accuracy 0.9875\n"
     ]
    }
   ],
   "source": [
    "y_valid_hat = hypothesis(X_valid_app, theta)\n",
    "y_valid_pred = np.round(y_valid_hat)\n",
    "val_acc = (y_valid_pred == y_valid).sum()/120\n",
    "print(\"Validation Accuracy\", val_acc)\n",
    "y_train_hat = hypothesis(X_train_app, theta)\n",
    "y_train_pred = np.round(y_train_hat)\n",
    "train_acc = (y_train_pred == y_train).sum()/m\n",
    "print(\"Training accuracy\", train_acc)"
   ]
  },
  {
   "cell_type": "code",
   "execution_count": 10,
   "id": "95f3e640",
   "metadata": {
    "execution": {
     "iopub.execute_input": "2022-02-12T14:42:03.023993Z",
     "iopub.status.busy": "2022-02-12T14:42:03.022899Z",
     "iopub.status.idle": "2022-02-12T14:42:03.027993Z",
     "shell.execute_reply": "2022-02-12T14:42:03.026917Z",
     "shell.execute_reply.started": "2022-02-12T07:08:15.573404Z"
    },
    "papermill": {
     "duration": 0.060662,
     "end_time": "2022-02-12T14:42:03.028251",
     "exception": false,
     "start_time": "2022-02-12T14:42:02.967589",
     "status": "completed"
    },
    "tags": []
   },
   "outputs": [
    {
     "name": "stdout",
     "output_type": "stream",
     "text": [
      "(480, 1)\n",
      "474\n"
     ]
    }
   ],
   "source": [
    "f = y_train_pred == y_train\n",
    "print(f.shape)\n",
    "print(f.sum())"
   ]
  },
  {
   "cell_type": "code",
   "execution_count": 11,
   "id": "4900f660",
   "metadata": {
    "execution": {
     "iopub.execute_input": "2022-02-12T14:42:03.092908Z",
     "iopub.status.busy": "2022-02-12T14:42:03.091805Z",
     "iopub.status.idle": "2022-02-12T14:42:03.095371Z",
     "shell.execute_reply": "2022-02-12T14:42:03.096418Z",
     "shell.execute_reply.started": "2022-02-12T07:08:15.581181Z"
    },
    "papermill": {
     "duration": 0.039924,
     "end_time": "2022-02-12T14:42:03.096695",
     "exception": false,
     "start_time": "2022-02-12T14:42:03.056771",
     "status": "completed"
    },
    "tags": []
   },
   "outputs": [
    {
     "name": "stdout",
     "output_type": "stream",
     "text": [
      "Test accuracy 0.9533333333333334\n"
     ]
    }
   ],
   "source": [
    "y_test_pred = np.round(hypothesis(X_test_app, theta))\n",
    "test_acc = (y_test_pred == test_set_y).sum()/150\n",
    "print(\"Test accuracy\", test_acc)"
   ]
  },
  {
   "cell_type": "code",
   "execution_count": 12,
   "id": "0f523722",
   "metadata": {
    "execution": {
     "iopub.execute_input": "2022-02-12T14:42:03.199243Z",
     "iopub.status.busy": "2022-02-12T14:42:03.198176Z",
     "iopub.status.idle": "2022-02-12T14:42:03.202676Z",
     "shell.execute_reply": "2022-02-12T14:42:03.203439Z",
     "shell.execute_reply.started": "2022-02-12T07:08:15.598539Z"
    },
    "papermill": {
     "duration": 0.059072,
     "end_time": "2022-02-12T14:42:03.203717",
     "exception": false,
     "start_time": "2022-02-12T14:42:03.144645",
     "status": "completed"
    },
    "tags": []
   },
   "outputs": [],
   "source": [
    "# print(alpha)"
   ]
  },
  {
   "cell_type": "code",
   "execution_count": 13,
   "id": "ca3d6872",
   "metadata": {
    "execution": {
     "iopub.execute_input": "2022-02-12T14:42:03.263782Z",
     "iopub.status.busy": "2022-02-12T14:42:03.263144Z",
     "iopub.status.idle": "2022-02-12T14:42:03.265401Z",
     "shell.execute_reply": "2022-02-12T14:42:03.264617Z",
     "shell.execute_reply.started": "2022-02-12T07:08:15.606982Z"
    },
    "papermill": {
     "duration": 0.031978,
     "end_time": "2022-02-12T14:42:03.265567",
     "exception": false,
     "start_time": "2022-02-12T14:42:03.233589",
     "status": "completed"
    },
    "tags": []
   },
   "outputs": [],
   "source": [
    "# alpha_list_1 = np.geomspace(1e-5, 1, 6)\n",
    "# alpha_list_2 = np.linspace(2, 15, 13)\n",
    "# alpha_list = np.append(alpha_list_1, alpha_list_2)\n",
    "# print(alpha_list)"
   ]
  },
  {
   "cell_type": "code",
   "execution_count": 14,
   "id": "924d235e",
   "metadata": {
    "execution": {
     "iopub.execute_input": "2022-02-12T14:42:03.322689Z",
     "iopub.status.busy": "2022-02-12T14:42:03.322036Z",
     "iopub.status.idle": "2022-02-12T14:42:03.324520Z",
     "shell.execute_reply": "2022-02-12T14:42:03.325032Z",
     "shell.execute_reply.started": "2022-02-12T07:08:15.618045Z"
    },
    "papermill": {
     "duration": 0.033513,
     "end_time": "2022-02-12T14:42:03.325187",
     "exception": false,
     "start_time": "2022-02-12T14:42:03.291674",
     "status": "completed"
    },
    "tags": []
   },
   "outputs": [
    {
     "name": "stdout",
     "output_type": "stream",
     "text": [
      "12288\n"
     ]
    }
   ],
   "source": [
    "print(n)"
   ]
  },
  {
   "cell_type": "code",
   "execution_count": 15,
   "id": "8731b064",
   "metadata": {
    "execution": {
     "iopub.execute_input": "2022-02-12T14:42:03.389444Z",
     "iopub.status.busy": "2022-02-12T14:42:03.388341Z",
     "iopub.status.idle": "2022-02-12T14:42:03.395035Z",
     "shell.execute_reply": "2022-02-12T14:42:03.394456Z",
     "shell.execute_reply.started": "2022-02-12T07:08:15.629566Z"
    },
    "papermill": {
     "duration": 0.043018,
     "end_time": "2022-02-12T14:42:03.395170",
     "exception": false,
     "start_time": "2022-02-12T14:42:03.352152",
     "status": "completed"
    },
    "tags": []
   },
   "outputs": [
    {
     "name": "stdout",
     "output_type": "stream",
     "text": [
      "Type of X <class 'numpy.ndarray'> Shape: (48, 12289)\n",
      "Type of y <class 'numpy.ndarray'> Shape: (48, 1)\n"
     ]
    }
   ],
   "source": [
    "def select_subset_from_dataset(imgs, labels, ratio=0.1, shuffle=True, seed=1234):\n",
    "  \"\"\"\n",
    "  Args:\n",
    "     imgs: numpy array representing the image set from which \n",
    "        the selection is made.\n",
    "     labels: the labels associated with the provided images.\n",
    "     ratio (optional): portion of the data to be selected. Default: 0.1.\n",
    "     shuffle (optional): Whether or not to shuffle the data. Default: True.\n",
    "     seed (optional): seed of the numpy random generator: Default: 1234.\n",
    "        \n",
    "  Return:\n",
    "     A tuple of 2 elements (select_imgs, select_labels)\n",
    "     where:\n",
    "        select_imgs: a numpy array of the selected images.\n",
    "        select_labels: labels associated with the selected images.\n",
    "      \n",
    "  \"\"\"\n",
    "  if shuffle:\n",
    "    np.random.seed(seed)  # Set the random seed of numpy.\n",
    "    indices = np.random.permutation(imgs.shape[0])\n",
    "  else:\n",
    "    indices = np.arange(imgs.shape[0])\n",
    "  idx, _ = np.split(indices, [int(ratio*len(indices))])\n",
    "  select_imgs = imgs[idx]\n",
    "  tgt = np.array(labels)\n",
    "  select_labels = tgt[idx]#.tolist()\n",
    "  return select_imgs, select_labels\n",
    "\n",
    "\n",
    "select_imgs, select_labels = select_subset_from_dataset(\n",
    "    X_train_app, y_train, 0.1\n",
    ")\n",
    "print(\"Type of X\", type(select_imgs), \"Shape:\", select_imgs.shape)\n",
    "print(\"Type of y\", type(select_labels), \"Shape:\", select_labels.shape)"
   ]
  },
  {
   "cell_type": "code",
   "execution_count": 16,
   "id": "15cb4b05",
   "metadata": {
    "execution": {
     "iopub.execute_input": "2022-02-12T14:42:03.452505Z",
     "iopub.status.busy": "2022-02-12T14:42:03.451865Z",
     "iopub.status.idle": "2022-02-12T14:42:03.455007Z",
     "shell.execute_reply": "2022-02-12T14:42:03.455494Z",
     "shell.execute_reply.started": "2022-02-12T07:08:15.650861Z"
    },
    "papermill": {
     "duration": 0.033048,
     "end_time": "2022-02-12T14:42:03.455647",
     "exception": false,
     "start_time": "2022-02-12T14:42:03.422599",
     "status": "completed"
    },
    "tags": []
   },
   "outputs": [],
   "source": [
    "# print((y_test_pred_pr==test_set_y).sum())"
   ]
  },
  {
   "cell_type": "code",
   "execution_count": 17,
   "id": "3802c702",
   "metadata": {
    "execution": {
     "iopub.execute_input": "2022-02-12T14:42:03.512417Z",
     "iopub.status.busy": "2022-02-12T14:42:03.511780Z",
     "iopub.status.idle": "2022-02-12T14:42:03.514520Z",
     "shell.execute_reply": "2022-02-12T14:42:03.515029Z",
     "shell.execute_reply.started": "2022-02-12T07:08:15.658821Z"
    },
    "papermill": {
     "duration": 0.032759,
     "end_time": "2022-02-12T14:42:03.515186",
     "exception": false,
     "start_time": "2022-02-12T14:42:03.482427",
     "status": "completed"
    },
    "tags": []
   },
   "outputs": [],
   "source": [
    "# test_acc_pr"
   ]
  },
  {
   "cell_type": "code",
   "execution_count": 18,
   "id": "054482a6",
   "metadata": {
    "execution": {
     "iopub.execute_input": "2022-02-12T14:42:03.576906Z",
     "iopub.status.busy": "2022-02-12T14:42:03.576209Z",
     "iopub.status.idle": "2022-02-12T14:45:39.664432Z",
     "shell.execute_reply": "2022-02-12T14:45:39.665336Z",
     "shell.execute_reply.started": "2022-02-12T07:08:15.669541Z"
    },
    "papermill": {
     "duration": 216.12347,
     "end_time": "2022-02-12T14:45:39.665651",
     "exception": false,
     "start_time": "2022-02-12T14:42:03.542181",
     "status": "completed"
    },
    "tags": []
   },
   "outputs": [
    {
     "name": "stdout",
     "output_type": "stream",
     "text": [
      "training set size 0.1\n",
      "test accuracy: 0.84 \n",
      "\n",
      "training set size 0.15000000000000002\n",
      "test accuracy: 0.8333333333333334 \n",
      "\n",
      "training set size 0.2\n",
      "test accuracy: 0.86 \n",
      "\n",
      "training set size 0.25\n",
      "test accuracy: 0.8933333333333333 \n",
      "\n",
      "training set size 0.30000000000000004\n",
      "test accuracy: 0.8933333333333333 \n",
      "\n",
      "training set size 0.35\n",
      "test accuracy: 0.88 \n",
      "\n",
      "training set size 0.4\n",
      "test accuracy: 0.9 \n",
      "\n",
      "training set size 0.45000000000000007\n",
      "test accuracy: 0.9133333333333333 \n",
      "\n",
      "training set size 0.5\n",
      "test accuracy: 0.94 \n",
      "\n",
      "training set size 0.55\n",
      "test accuracy: 0.94 \n",
      "\n",
      "training set size 0.6\n",
      "test accuracy: 0.94 \n",
      "\n",
      "training set size 0.65\n",
      "test accuracy: 0.94 \n",
      "\n",
      "training set size 0.7000000000000001\n",
      "test accuracy: 0.94 \n",
      "\n",
      "training set size 0.75\n",
      "test accuracy: 0.9466666666666667 \n",
      "\n",
      "training set size 0.8\n",
      "test accuracy: 0.9533333333333334 \n",
      "\n",
      "training set size 0.85\n",
      "test accuracy: 0.9533333333333334 \n",
      "\n",
      "training set size 0.9\n",
      "test accuracy: 0.9533333333333334 \n",
      "\n",
      "training set size 0.9500000000000001\n",
      "test accuracy: 0.9533333333333334 \n",
      "\n",
      "training set size 1.0\n",
      "test accuracy: 0.9533333333333334 \n",
      "\n"
     ]
    }
   ],
   "source": [
    "percent_data = np.linspace(0.1, 1.0, 19)\n",
    "# print(percent_data)\n",
    "test_acc_pr=np.zeros(percent_data.shape[0])\n",
    "ix = 0\n",
    "for pr in percent_data:\n",
    "    print(\"training set size\", pr)\n",
    "    init_theta = initialize_theta(n)\n",
    "#     print(init_theta)\n",
    "    pr_train_X, pr_train_y = select_subset_from_dataset(X_train_app, y_train, ratio=pr)\n",
    "    theta_pr, J_pr = gradient_descent(pr_train_X, pr_train_y, init_theta, 1e-3, 1000)\n",
    "    y_test_pred_pr = np.round(hypothesis(X_test_app, theta_pr))\n",
    "    test_acc_pr[ix] = (y_test_pred_pr == test_set_y).sum()/150\n",
    "    print(\"test accuracy:\",test_acc_pr[ix],\"\\n\")\n",
    "    ix += 1\n"
   ]
  },
  {
   "cell_type": "code",
   "execution_count": 19,
   "id": "dbf83a9d",
   "metadata": {
    "execution": {
     "iopub.execute_input": "2022-02-12T14:45:39.769826Z",
     "iopub.status.busy": "2022-02-12T14:45:39.768321Z",
     "iopub.status.idle": "2022-02-12T14:49:54.433092Z",
     "shell.execute_reply": "2022-02-12T14:49:54.433605Z"
    },
    "papermill": {
     "duration": 254.711941,
     "end_time": "2022-02-12T14:49:54.433782",
     "exception": false,
     "start_time": "2022-02-12T14:45:39.721841",
     "status": "completed"
    },
    "tags": []
   },
   "outputs": [
    {
     "name": "stdout",
     "output_type": "stream",
     "text": [
      "learning rate 1e-05\n",
      "test accuracy 0.6266666666666667\n",
      "Elapsed time 27.746481895446777\n"
     ]
    },
    {
     "data": {
      "image/png": "[encoded data removed]",
      "text/plain": [
       "<Figure size 432x288 with 1 Axes>"
      ]
     },
     "metadata": {
      "needs_background": "light"
     },
     "output_type": "display_data"
    },
    {
     "name": "stdout",
     "output_type": "stream",
     "text": [
      "\n",
      "\n",
      "\n",
      "learning rate 5e-05\n",
      "test accuracy 0.8133333333333334\n",
      "Elapsed time 27.993507385253906\n"
     ]
    },
    {
     "data": {
      "image/png": "[encoded data removed]",
      "text/plain": [
       "<Figure size 432x288 with 1 Axes>"
      ]
     },
     "metadata": {
      "needs_background": "light"
     },
     "output_type": "display_data"
    },
    {
     "name": "stdout",
     "output_type": "stream",
     "text": [
      "\n",
      "\n",
      "\n",
      "learning rate 0.0001\n",
      "test accuracy 0.86\n",
      "Elapsed time 27.94371271133423\n"
     ]
    },
    {
     "data": {
      "image/png": "[encoded data removed]",
      "text/plain": [
       "<Figure size 432x288 with 1 Axes>"
      ]
     },
     "metadata": {
      "needs_background": "light"
     },
     "output_type": "display_data"
    },
    {
     "name": "stdout",
     "output_type": "stream",
     "text": [
      "\n",
      "\n",
      "\n",
      "learning rate 0.0005\n",
      "test accuracy 0.9466666666666667\n",
      "Elapsed time 28.41113305091858\n"
     ]
    },
    {
     "data": {
      "image/png": "[encoded data removed]",
      "text/plain": [
       "<Figure size 432x288 with 1 Axes>"
      ]
     },
     "metadata": {
      "needs_background": "light"
     },
     "output_type": "display_data"
    },
    {
     "name": "stdout",
     "output_type": "stream",
     "text": [
      "\n",
      "\n",
      "\n",
      "learning rate 0.001\n",
      "test accuracy 0.9533333333333334\n",
      "Elapsed time 28.194879055023193\n"
     ]
    },
    {
     "data": {
      "image/png": "[encoded data removed]",
      "text/plain": [
       "<Figure size 432x288 with 1 Axes>"
      ]
     },
     "metadata": {
      "needs_background": "light"
     },
     "output_type": "display_data"
    },
    {
     "name": "stdout",
     "output_type": "stream",
     "text": [
      "\n",
      "\n",
      "\n",
      "learning rate 0.005\n",
      "test accuracy 0.94\n",
      "Elapsed time 28.40638542175293\n"
     ]
    },
    {
     "data": {
      "image/png": "[encoded data removed]",
      "text/plain": [
       "<Figure size 432x288 with 1 Axes>"
      ]
     },
     "metadata": {
      "needs_background": "light"
     },
     "output_type": "display_data"
    },
    {
     "name": "stdout",
     "output_type": "stream",
     "text": [
      "\n",
      "\n",
      "\n",
      "learning rate 0.01\n",
      "test accuracy 0.9466666666666667\n",
      "Elapsed time 28.03858470916748\n"
     ]
    },
    {
     "data": {
      "image/png": "[encoded data removed]",
      "text/plain": [
       "<Figure size 432x288 with 1 Axes>"
      ]
     },
     "metadata": {
      "needs_background": "light"
     },
     "output_type": "display_data"
    },
    {
     "name": "stdout",
     "output_type": "stream",
     "text": [
      "\n",
      "\n",
      "\n",
      "learning rate 0.05\n",
      "test accuracy 0.9333333333333333\n",
      "Elapsed time 27.658914804458618\n"
     ]
    },
    {
     "data": {
      "image/png": "[encoded data removed]",
      "text/plain": [
       "<Figure size 432x288 with 1 Axes>"
      ]
     },
     "metadata": {
      "needs_background": "light"
     },
     "output_type": "display_data"
    },
    {
     "name": "stdout",
     "output_type": "stream",
     "text": [
      "\n",
      "\n",
      "\n",
      "learning rate 0.1\n",
      "test accuracy 0.92\n",
      "Elapsed time 28.205150842666626\n"
     ]
    },
    {
     "data": {
      "image/png": "[encoded data removed]",
      "text/plain": [
       "<Figure size 432x288 with 1 Axes>"
      ]
     },
     "metadata": {
      "needs_background": "light"
     },
     "output_type": "display_data"
    },
    {
     "name": "stdout",
     "output_type": "stream",
     "text": [
      "\n",
      "\n",
      "\n"
     ]
    }
   ],
   "source": [
    "# alpha_list_1 = np.geomspace(1e-5, 1, 6)\n",
    "# alpha_list_2 = np.linspace(2, 150, 20)\n",
    "# alpha_list = np.append(alpha_list_1, alpha_list_2)\n",
    "alpha_list = np.array([1e-5, 5e-5, 1e-4, 5e-4, 1e-3, 5e-3, 1e-2, 5e-2, 1e-1])\n",
    "test_acc_list=np.zeros(alpha_list.shape[0])\n",
    "idx=0\n",
    "# print(test_acc_list)\n",
    "elapsed_time = np.zeros(alpha_list.shape[0])\n",
    "for lr in alpha_list:\n",
    "    elapsed_time[idx] = time.time()\n",
    "    print(\"learning rate\", lr)\n",
    "    initial_theta = initialize_theta(n)\n",
    "    theta_list, J_list = gradient_descent(X=X_train_app, y=y_train, theta=initial_theta, alpha=lr, iters=iters)\n",
    "    y_test_pred_list = np.round(hypothesis(X_test_app, theta_list))\n",
    "    test_acc_list[idx] = (y_test_pred_list == test_set_y).sum()/150\n",
    "    print(\"test accuracy\",test_acc_list[idx])\n",
    "    elapsed_time[idx] = time.time() - elapsed_time[idx]\n",
    "    print(\"Elapsed time\", elapsed_time[idx])\n",
    "    plt.figure(idx)\n",
    "    plt.plot(range(0,iters), J_list)\n",
    "    plt.savefig(\"Loss_vs_lr_{}.png\".format(lr))\n",
    "    plt.show()\n",
    "    print(\"\\n\\n\")\n",
    "    idx += 1"
   ]
  },
  {
   "cell_type": "code",
   "execution_count": 20,
   "id": "5695b5eb",
   "metadata": {
    "execution": {
     "iopub.execute_input": "2022-02-12T14:49:54.528909Z",
     "iopub.status.busy": "2022-02-12T14:49:54.528272Z",
     "iopub.status.idle": "2022-02-12T14:49:55.345288Z",
     "shell.execute_reply": "2022-02-12T14:49:55.344384Z"
    },
    "papermill": {
     "duration": 0.8654,
     "end_time": "2022-02-12T14:49:55.345445",
     "exception": false,
     "start_time": "2022-02-12T14:49:54.480045",
     "status": "completed"
    },
    "tags": []
   },
   "outputs": [
    {
     "data": {
      "text/plain": [
       "Text(0, 0.5, 'Test accuracy')"
      ]
     },
     "execution_count": 20,
     "metadata": {},
     "output_type": "execute_result"
    },
    {
     "data": {
      "image/png": "[encoded data removed]",
      "text/plain": [
       "<Figure size 432x288 with 1 Axes>"
      ]
     },
     "metadata": {
      "needs_background": "light"
     },
     "output_type": "display_data"
    }
   ],
   "source": [
    "plt.plot(alpha_list, test_acc_list)\n",
    "plt.xscale(\"log\")\n",
    "plt.xlabel(\"Learning rate\")\n",
    "plt.ylabel(\"Test accuracy\")\n"
   ]
  },
  {
   "cell_type": "code",
   "execution_count": 21,
   "id": "e31ec127",
   "metadata": {
    "execution": {
     "iopub.execute_input": "2022-02-12T14:49:55.443373Z",
     "iopub.status.busy": "2022-02-12T14:49:55.442748Z",
     "iopub.status.idle": "2022-02-12T14:50:24.392199Z",
     "shell.execute_reply": "2022-02-12T14:50:24.391567Z",
     "shell.execute_reply.started": "2022-02-12T07:17:17.311557Z"
    },
    "papermill": {
     "duration": 28.999239,
     "end_time": "2022-02-12T14:50:24.392340",
     "exception": false,
     "start_time": "2022-02-12T14:49:55.393101",
     "status": "completed"
    },
    "tags": []
   },
   "outputs": [
    {
     "name": "stdout",
     "output_type": "stream",
     "text": [
      "test accuracy 0.92\n",
      "Elapsed time 28.758897304534912\n"
     ]
    },
    {
     "data": {
      "image/png": "[encoded data removed]",
      "text/plain": [
       "<Figure size 432x288 with 1 Axes>"
      ]
     },
     "metadata": {
      "needs_background": "light"
     },
     "output_type": "display_data"
    },
    {
     "name": "stdout",
     "output_type": "stream",
     "text": [
      "\n",
      "\n",
      "\n"
     ]
    }
   ],
   "source": [
    "elapsed = time.time()\n",
    "# print(\"learning rate\", lr)\n",
    "initial_theta = initialize_theta(n)\n",
    "theta_list, J_notlist = gradient_descent(X=X_train_app, y=y_train, theta=initial_theta, alpha=1, iters=iters)\n",
    "y_test_pred_notlist = np.round(hypothesis(X_test_app, theta_list))\n",
    "test_acc_notlist = (y_test_pred_list == test_set_y).sum()/150\n",
    "print(\"test accuracy\",test_acc_notlist)\n",
    "elapsed = time.time() - elapsed\n",
    "print(\"Elapsed time\", elapsed)\n",
    "# plt.figure()\n",
    "plt.plot(range(0,iters), J_notlist)\n",
    "plt.show()\n",
    "print(\"\\n\\n\")"
   ]
  },
  {
   "cell_type": "code",
   "execution_count": 22,
   "id": "d8360fb3",
   "metadata": {
    "execution": {
     "iopub.execute_input": "2022-02-12T14:50:24.493252Z",
     "iopub.status.busy": "2022-02-12T14:50:24.492617Z",
     "iopub.status.idle": "2022-02-12T14:50:24.725688Z",
     "shell.execute_reply": "2022-02-12T14:50:24.725165Z",
     "shell.execute_reply.started": "2022-02-12T07:17:50.902589Z"
    },
    "papermill": {
     "duration": 0.284467,
     "end_time": "2022-02-12T14:50:24.725828",
     "exception": false,
     "start_time": "2022-02-12T14:50:24.441361",
     "status": "completed"
    },
    "tags": []
   },
   "outputs": [
    {
     "data": {
      "image/png": "[encoded data removed]",
      "text/plain": [
       "<Figure size 432x288 with 1 Axes>"
      ]
     },
     "metadata": {
      "needs_background": "light"
     },
     "output_type": "display_data"
    }
   ],
   "source": [
    "#############\n",
    "## Plot Loss\n",
    "#############\n",
    "plt.plot(range(0,iters), J)\n",
    "plt.xlabel(\"Iteration no\")\n",
    "plt.ylabel(\"Loss\")\n",
    "plt.savefig(\"Loss_vs_iteration.png\")\n",
    "plt.show()"
   ]
  },
  {
   "cell_type": "code",
   "execution_count": 23,
   "id": "59d0b77b",
   "metadata": {
    "execution": {
     "iopub.execute_input": "2022-02-12T14:50:24.862825Z",
     "iopub.status.busy": "2022-02-12T14:50:24.852819Z",
     "iopub.status.idle": "2022-02-12T14:50:25.053364Z",
     "shell.execute_reply": "2022-02-12T14:50:25.052717Z",
     "shell.execute_reply.started": "2022-02-12T07:17:51.340870Z"
    },
    "papermill": {
     "duration": 0.278291,
     "end_time": "2022-02-12T14:50:25.053537",
     "exception": false,
     "start_time": "2022-02-12T14:50:24.775246",
     "status": "completed"
    },
    "tags": []
   },
   "outputs": [
    {
     "data": {
      "image/png": "[encoded data removed]",
      "text/plain": [
       "<Figure size 432x288 with 1 Axes>"
      ]
     },
     "metadata": {
      "needs_background": "light"
     },
     "output_type": "display_data"
    }
   ],
   "source": [
    "\n",
    "############\n",
    "## Plot accuracy vs training dataset size\n",
    "############\n",
    "plt.plot(percent_data, test_acc_pr, '*')\n",
    "plt.xlabel(\"Fraction of training dataset\")\n",
    "plt.ylabel(\"Test accuracy\")\n",
    "plt.savefig(\"accuracy_vs_training_size.png\")\n",
    "plt.show()"
   ]
  },
  {
   "cell_type": "code",
   "execution_count": 24,
   "id": "119aaa05",
   "metadata": {
    "execution": {
     "iopub.execute_input": "2022-02-12T14:50:25.160404Z",
     "iopub.status.busy": "2022-02-12T14:50:25.159272Z",
     "iopub.status.idle": "2022-02-12T14:50:25.381300Z",
     "shell.execute_reply": "2022-02-12T14:50:25.380802Z",
     "shell.execute_reply.started": "2022-02-12T07:22:52.722054Z"
    },
    "papermill": {
     "duration": 0.27787,
     "end_time": "2022-02-12T14:50:25.381444",
     "exception": false,
     "start_time": "2022-02-12T14:50:25.103574",
     "status": "completed"
    },
    "tags": []
   },
   "outputs": [
    {
     "data": {
      "image/png": "[encoded data removed]",
      "text/plain": [
       "<Figure size 432x288 with 1 Axes>"
      ]
     },
     "metadata": {
      "needs_background": "light"
     },
     "output_type": "display_data"
    }
   ],
   "source": [
    "\n",
    "############\n",
    "## Plot accuracy vs training dataset size\n",
    "############\n",
    "plt.plot(percent_data, test_acc_pr)\n",
    "plt.xlabel(\"Fraction of training dataset\")\n",
    "plt.ylabel(\"Test accuracy\")\n",
    "plt.savefig(\"accuracy_vs_training_size_connected.png\")\n",
    "plt.show()"
   ]
  },
  {
   "cell_type": "code",
   "execution_count": 25,
   "id": "9d7cf1a2",
   "metadata": {
    "execution": {
     "iopub.execute_input": "2022-02-12T14:50:25.501923Z",
     "iopub.status.busy": "2022-02-12T14:50:25.501201Z",
     "iopub.status.idle": "2022-02-12T14:50:26.104165Z",
     "shell.execute_reply": "2022-02-12T14:50:26.104679Z",
     "shell.execute_reply.started": "2022-02-12T07:21:45.777650Z"
    },
    "papermill": {
     "duration": 0.672297,
     "end_time": "2022-02-12T14:50:26.104866",
     "exception": false,
     "start_time": "2022-02-12T14:50:25.432569",
     "status": "completed"
    },
    "tags": []
   },
   "outputs": [
    {
     "data": {
      "image/png": "[encoded data removed]",
      "text/plain": [
       "<Figure size 432x288 with 1 Axes>"
      ]
     },
     "metadata": {
      "needs_background": "light"
     },
     "output_type": "display_data"
    }
   ],
   "source": [
    "############\n",
    "## Plot accuracy vs learning rate\n",
    "plt.plot(alpha_list, test_acc_list)\n",
    "plt.xscale(\"log\")\n",
    "plt.xlabel(\"Learning rate\")\n",
    "plt.ylabel(\"Test accuracy\")\n",
    "plt.savefig(\"lr_vs_training_size.png\")\n",
    "plt.show()"
   ]
  },
  {
   "cell_type": "code",
   "execution_count": 26,
   "id": "f30e83a7",
   "metadata": {
    "execution": {
     "iopub.execute_input": "2022-02-12T14:50:26.213567Z",
     "iopub.status.busy": "2022-02-12T14:50:26.212874Z",
     "iopub.status.idle": "2022-02-12T14:50:26.217321Z",
     "shell.execute_reply": "2022-02-12T14:50:26.218021Z",
     "shell.execute_reply.started": "2022-02-12T07:17:51.824451Z"
    },
    "papermill": {
     "duration": 0.060988,
     "end_time": "2022-02-12T14:50:26.218247",
     "exception": false,
     "start_time": "2022-02-12T14:50:26.157259",
     "status": "completed"
    },
    "tags": []
   },
   "outputs": [
    {
     "name": "stdout",
     "output_type": "stream",
     "text": [
      "[0.62666667 0.81333333 0.86       0.94666667 0.95333333 0.94\n",
      " 0.94666667 0.93333333 0.92      ]\n"
     ]
    }
   ],
   "source": [
    "# idx=0\n",
    "# for lr in alpha_list:\n",
    "# #     print(lr)\n",
    "# #     initial_theta = initialize_theta(n)\n",
    "# #     theta, J = gradient_descent(X=X_train_app, y=y_train, theta=initial_theta, alpha=alpha, iters=iters)\n",
    "# #     y_test_pred = np.round(hypothesis(X_test_app, theta))\n",
    "#     test_acc_list[idx] = 15*lr\n",
    "#     idx += 1\n",
    "print(test_acc_list)"
   ]
  }
 ],
 "metadata": {
  "kernelspec": {
   "display_name": "Python 3",
   "language": "python",
   "name": "python3"
  },
  "language_info": {
   "codemirror_mode": {
    "name": "ipython",
    "version": 3
   },
   "file_extension": ".py",
   "mimetype": "text/x-python",
   "name": "python",
   "nbconvert_exporter": "python",
   "pygments_lexer": "ipython3",
   "version": "3.7.12"
  },
  "papermill": {
   "default_parameters": {},
   "duration": 542.333646,
   "end_time": "2022-02-12T14:50:27.084153",
   "environment_variables": {},
   "exception": null,
   "input_path": "__notebook__.ipynb",
   "output_path": "__notebook__.ipynb",
   "parameters": {},
   "start_time": "2022-02-12T14:41:24.750507",
   "version": "2.3.3"
  }
 },
 "nbformat": 4,
 "nbformat_minor": 5
}
