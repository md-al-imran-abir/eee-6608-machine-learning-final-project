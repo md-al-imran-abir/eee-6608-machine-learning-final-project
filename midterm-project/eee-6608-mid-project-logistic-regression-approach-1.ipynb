{
 "cells": [
  {
   "cell_type": "code",
   "execution_count": 1,
   "id": "3e98bfb6",
   "metadata": {
    "_cell_guid": "b1076dfc-b9ad-4769-8c92-a6c4dae69d19",
    "_uuid": "8f2839f25d086af736a60e9eeb907d3b93b6e0e5",
    "execution": {
     "iopub.execute_input": "2022-02-11T20:51:32.502811Z",
     "iopub.status.busy": "2022-02-11T20:51:32.501568Z",
     "iopub.status.idle": "2022-02-11T20:51:33.849480Z",
     "shell.execute_reply": "2022-02-11T20:51:33.850061Z",
     "shell.execute_reply.started": "2022-02-11T19:24:23.480242Z"
    },
    "papermill": {
     "duration": 1.366339,
     "end_time": "2022-02-11T20:51:33.850350",
     "exception": false,
     "start_time": "2022-02-11T20:51:32.484011",
     "status": "completed"
    },
    "tags": []
   },
   "outputs": [],
   "source": [
    "import numpy as np # linear algebra\n",
    "import h5py\n",
    "import matplotlib.pyplot as plt\n",
    "from sklearn.model_selection import train_test_split\n",
    "import time\n",
    "%matplotlib inline\n",
    "\n",
    "# Random state seed\n",
    "seed = 1234"
   ]
  },
  {
   "cell_type": "code",
   "execution_count": 2,
   "id": "b10c0673",
   "metadata": {
    "execution": {
     "iopub.execute_input": "2022-02-11T20:51:33.909143Z",
     "iopub.status.busy": "2022-02-11T20:51:33.901632Z",
     "iopub.status.idle": "2022-02-11T20:51:34.178237Z",
     "shell.execute_reply": "2022-02-11T20:51:34.178736Z",
     "shell.execute_reply.started": "2022-02-11T20:14:28.487284Z"
    },
    "papermill": {
     "duration": 0.31559,
     "end_time": "2022-02-11T20:51:34.178919",
     "exception": false,
     "start_time": "2022-02-11T20:51:33.863329",
     "status": "completed"
    },
    "tags": []
   },
   "outputs": [
    {
     "name": "stdout",
     "output_type": "stream",
     "text": [
      "Train set size: (480, 64, 64, 3)\n",
      "Validation set size: (120, 64, 64, 3)\n"
     ]
    }
   ],
   "source": [
    "def load_dataset():\n",
    "    train_dataset = h5py.File('/kaggle/input/happy-dataset/train_happy.h5', \"r\")\n",
    "    test_dataset = h5py.File('/kaggle/input/happy-dataset/test_happy.h5', \"r\")\n",
    "    train_set_x_orig = np.array(train_dataset[\"train_set_x\"][:])\n",
    "    train_set_y_orig = np.array(train_dataset[\"train_set_y\"][:])\n",
    "    test_set_x_orig = np.array(test_dataset[\"test_set_x\"][:])\n",
    "    test_set_y_orig = np.array(test_dataset[\"test_set_y\"][:])\n",
    "    classes = np.array(test_dataset[\"list_classes\"][:])\n",
    "\n",
    "    train_set_y_orig = np.transpose(train_set_y_orig.reshape((1, train_set_y_orig.shape[0])))\n",
    "    test_set_y_orig = np.transpose(test_set_y_orig.reshape((1, test_set_y_orig.shape[0])))\n",
    "\n",
    "    return train_set_x_orig, train_set_y_orig, test_set_x_orig, test_set_y_orig, classes\n",
    "\n",
    "train_set_X, train_set_y, test_set_X, test_set_y, classes = load_dataset()\n",
    "\n",
    "def create_validation_set(train_set_X, train_set_y, test_size=0.2, random_state=seed):\n",
    "    \"\"\"\n",
    "    Divides the training set into training and validation set\n",
    "    \n",
    "    Input:\n",
    "    - train_set_X: Training set samples containing only features (no label)\n",
    "    - train_set_y: Training set labels\n",
    "    - test_size: (optional) % of training data to be separated as validation data\n",
    "    \n",
    "    Output:\n",
    "    - X_train: Training samples\n",
    "    - y_train: Training labels\n",
    "    - X_valid: Validation samples\n",
    "    - y_valid: Validation labels\n",
    "    \"\"\"\n",
    "    X_train, X_valid, y_train, y_valid = train_test_split(train_set_X, train_set_y, test_size=test_size, random_state=seed)\n",
    "    print(\"Train set size:\", X_train.shape)\n",
    "    print(\"Validation set size:\", X_valid.shape)\n",
    "    return X_train, y_train, X_valid, y_valid\n",
    "\n",
    "train_X, y_train, valid_X, y_valid = create_validation_set(train_set_X, train_set_y, test_size=0.2)\n",
    "# Preparing the data\n",
    "X_train = train_X.reshape(480, 64*64*3)\n",
    "X_valid = valid_X.reshape(120, 64*64*3)\n",
    "test_set_X = test_set_X.reshape(150, 64*64*3)\n",
    "\n",
    "def normalization(x, mu, std):\n",
    "    \"\"\"\n",
    "    Normalization\n",
    "    \n",
    "    Input:\n",
    "    - x: data\n",
    "    - mu: average\n",
    "    - std: standard deviation\n",
    "    \n",
    "    Output:\n",
    "    - x_scaled: normalized output\n",
    "    \"\"\"\n",
    "    x_scaled = (x-mu)/std\n",
    "    return x_scaled\n",
    "\n",
    "# Normalize the data\n",
    "mean_X = X_train.mean()\n",
    "std_X = X_train.std()\n",
    "X_train_scl = normalization(X_train, mean_X, std_X)\n",
    "X_valid_scl = normalization(X_valid, mean_X, std_X)\n",
    "X_test_scl = normalization(test_set_X, mean_X, std_X)\n",
    "\n",
    "m = X_train.shape[0] # no of training samples\n",
    "n = X_train.shape[1] # no of features\n",
    "X_train_app = np.c_[np.ones(m), X_train_scl] # append a column of 1\n",
    "X_valid_app = np.c_[np.ones(120), X_valid_scl] # append a column of 1\n",
    "X_test_app = np.c_[np.ones(150), X_test_scl] # append a column of 1\n",
    "alpha = 1e-3 # learning rate\n",
    "iters = 1000 # no of iterations"
   ]
  },
  {
   "cell_type": "code",
   "execution_count": 3,
   "id": "9969ba75",
   "metadata": {
    "execution": {
     "iopub.execute_input": "2022-02-11T20:51:34.219268Z",
     "iopub.status.busy": "2022-02-11T20:51:34.218240Z",
     "iopub.status.idle": "2022-02-11T20:51:34.224629Z",
     "shell.execute_reply": "2022-02-11T20:51:34.225133Z",
     "shell.execute_reply.started": "2022-02-11T20:23:40.782088Z"
    },
    "papermill": {
     "duration": 0.03026,
     "end_time": "2022-02-11T20:51:34.225313",
     "exception": false,
     "start_time": "2022-02-11T20:51:34.195053",
     "status": "completed"
    },
    "tags": []
   },
   "outputs": [],
   "source": [
    "class LogisticRegression:\n",
    "    def __init__(self,x,y):      \n",
    "        self.intercept = np.ones((x.shape[0], 1))  \n",
    "        self.x = np.concatenate((self.intercept, x), axis=1)\n",
    "        self.weight = np.zeros(self.x.shape[1])\n",
    "        self.y = y\n",
    "        print(\"size of X\", self.x.shape, \"\\nsize of y\",self.y.shape, \"type of y\", type(self.y), \"\\nsize of weights\", self.weight.shape)\n",
    "         \n",
    "    #Sigmoid function\n",
    "    def sigmoid(self, x, weight):\n",
    "        z = np.dot(x, weight)\n",
    "#         a = 1 / (1 + np.exp(-z))\n",
    "        a = .5 * (1 + np.tanh(.5 * z))\n",
    "        return a\n",
    "     \n",
    "    #calculate the Loss\n",
    "    def loss(self, h, y):\n",
    "        epsilon = 1e-10\n",
    "        J = (-y * np.log(h+epsilon) - (1-y) * np.log(1-h+epsilon)).mean()\n",
    "        return J\n",
    "     \n",
    "    #calculating the gradients\n",
    "    def gradient_descent(self, X, h, y):\n",
    "        delJ = np.dot(X.T, (h - y)) / y.shape[0]\n",
    "        return delJ\n",
    " \n",
    "     \n",
    "    def fit(self, lr , iterations):\n",
    "        J = np.zeros(iterations)\n",
    "        for i in range(iterations):\n",
    "            sigma = self.sigmoid(self.x, self.weight)\n",
    "             \n",
    "            J[i] = self.loss(sigma,self.y)\n",
    " \n",
    "            delJ = self.gradient_descent(self.x , sigma, self.y)\n",
    "             \n",
    "            #Updating the weights\n",
    "            self.weight -= lr * delJ\n",
    "#             print('fitted successfully to data')\n",
    "            \n",
    "        return J\n",
    "     \n",
    "    #Method to predict the class label.\n",
    "    def predict(self, x_new , treshold):\n",
    "        intercept_new = np.ones((x_new.shape[0], 1))\n",
    "        x_new = np.concatenate((intercept_new, x_new), axis=1)\n",
    "        result = self.sigmoid(x_new, self.weight)\n",
    "#         result = result >= treshold\n",
    "        y_pred = np.round(result)#np.zeros(result.shape[0])\n",
    "#         for i in range(len(y_pred)):\n",
    "#             if result[i] == True: \n",
    "#                 y_pred[i] = 1\n",
    "#             else:\n",
    "#                 continue\n",
    "                 \n",
    "        return y_pred"
   ]
  },
  {
   "cell_type": "code",
   "execution_count": 4,
   "id": "4f6ff5ec",
   "metadata": {
    "execution": {
     "iopub.execute_input": "2022-02-11T20:51:34.258676Z",
     "iopub.status.busy": "2022-02-11T20:51:34.257417Z",
     "iopub.status.idle": "2022-02-11T20:51:38.885295Z",
     "shell.execute_reply": "2022-02-11T20:51:38.885806Z",
     "shell.execute_reply.started": "2022-02-11T20:50:20.834065Z"
    },
    "papermill": {
     "duration": 4.648176,
     "end_time": "2022-02-11T20:51:38.886000",
     "exception": false,
     "start_time": "2022-02-11T20:51:34.237824",
     "status": "completed"
    },
    "tags": []
   },
   "outputs": [
    {
     "name": "stdout",
     "output_type": "stream",
     "text": [
      "size of X (480, 12289) \n",
      "size of y (480,) type of y <class 'numpy.ndarray'> \n",
      "size of weights (12289,)\n",
      "75.72\n"
     ]
    },
    {
     "data": {
      "image/png": "[encoded data removed]",
      "text/plain": [
       "<Figure size 432x288 with 1 Axes>"
      ]
     },
     "metadata": {
      "needs_background": "light"
     },
     "output_type": "display_data"
    }
   ],
   "source": [
    "regressor = LogisticRegression(X_train_scl, y_train.flatten())\n",
    "J = regressor.fit(alpha , iters)\n",
    "y_pred = regressor.predict(X_test_scl,0.5)\n",
    "\n",
    "test_acc = (y_pred == test_set_y).sum()/150\n",
    "print(test_acc)\n",
    "\n",
    "plt.plot(range(0,iters), J)\n",
    "plt.ylabel(\"Loss\")\n",
    "plt.xlabel(\"No of iterations\")\n",
    "plt.savefig(\"Loss_vs_iterations.png\")\n",
    "plt.show()"
   ]
  },
  {
   "cell_type": "code",
   "execution_count": 5,
   "id": "3c58a1fa",
   "metadata": {
    "execution": {
     "iopub.execute_input": "2022-02-11T20:51:38.920922Z",
     "iopub.status.busy": "2022-02-11T20:51:38.920172Z",
     "iopub.status.idle": "2022-02-11T20:51:38.922977Z",
     "shell.execute_reply": "2022-02-11T20:51:38.923481Z",
     "shell.execute_reply.started": "2022-02-11T20:08:27.315109Z"
    },
    "papermill": {
     "duration": 0.023208,
     "end_time": "2022-02-11T20:51:38.923661",
     "exception": false,
     "start_time": "2022-02-11T20:51:38.900453",
     "status": "completed"
    },
    "tags": []
   },
   "outputs": [
    {
     "name": "stdout",
     "output_type": "stream",
     "text": [
      "(1000,)\n"
     ]
    }
   ],
   "source": [
    "print(J.shape)"
   ]
  },
  {
   "cell_type": "code",
   "execution_count": 6,
   "id": "7ebabab6",
   "metadata": {
    "execution": {
     "iopub.execute_input": "2022-02-11T20:51:38.956165Z",
     "iopub.status.busy": "2022-02-11T20:51:38.955403Z",
     "iopub.status.idle": "2022-02-11T20:52:19.772732Z",
     "shell.execute_reply": "2022-02-11T20:52:19.773309Z",
     "shell.execute_reply.started": "2022-02-11T20:23:52.359011Z"
    },
    "papermill": {
     "duration": 40.835564,
     "end_time": "2022-02-11T20:52:19.773490",
     "exception": false,
     "start_time": "2022-02-11T20:51:38.937926",
     "status": "completed"
    },
    "tags": []
   },
   "outputs": [
    {
     "name": "stdout",
     "output_type": "stream",
     "text": [
      "learning rate 1e-05\n",
      "size of X (480, 12289) \n",
      "size of y (480,) type of y <class 'numpy.ndarray'> \n",
      "size of weights (12289,)\n",
      "test accuracy 72.0\n",
      "Elapsed time 4.466296434402466\n"
     ]
    },
    {
     "data": {
      "image/png": "[encoded data removed]",
      "text/plain": [
       "<Figure size 432x288 with 1 Axes>"
      ]
     },
     "metadata": {
      "needs_background": "light"
     },
     "output_type": "display_data"
    },
    {
     "name": "stdout",
     "output_type": "stream",
     "text": [
      "\n",
      "\n",
      "learning rate 5e-05\n",
      "size of X (480, 12289) \n",
      "size of y (480,) type of y <class 'numpy.ndarray'> \n",
      "size of weights (12289,)\n",
      "test accuracy 73.2\n",
      "Elapsed time 4.256048679351807\n"
     ]
    },
    {
     "data": {
      "image/png": "[encoded data removed]",
      "text/plain": [
       "<Figure size 432x288 with 1 Axes>"
      ]
     },
     "metadata": {
      "needs_background": "light"
     },
     "output_type": "display_data"
    },
    {
     "name": "stdout",
     "output_type": "stream",
     "text": [
      "\n",
      "\n",
      "learning rate 0.0001\n",
      "size of X (480, 12289) \n",
      "size of y (480,) type of y <class 'numpy.ndarray'> \n",
      "size of weights (12289,)\n",
      "test accuracy 74.04\n",
      "Elapsed time 4.078680753707886\n"
     ]
    },
    {
     "data": {
      "image/png": "[encoded data removed]",
      "text/plain": [
       "<Figure size 432x288 with 1 Axes>"
      ]
     },
     "metadata": {
      "needs_background": "light"
     },
     "output_type": "display_data"
    },
    {
     "name": "stdout",
     "output_type": "stream",
     "text": [
      "\n",
      "\n",
      "learning rate 0.0005\n",
      "size of X (480, 12289) \n",
      "size of y (480,) type of y <class 'numpy.ndarray'> \n",
      "size of weights (12289,)\n",
      "test accuracy 75.6\n",
      "Elapsed time 4.2835373878479\n"
     ]
    },
    {
     "data": {
      "image/png": "[encoded data removed]",
      "text/plain": [
       "<Figure size 432x288 with 1 Axes>"
      ]
     },
     "metadata": {
      "needs_background": "light"
     },
     "output_type": "display_data"
    },
    {
     "name": "stdout",
     "output_type": "stream",
     "text": [
      "\n",
      "\n",
      "learning rate 0.001\n",
      "size of X (480, 12289) \n",
      "size of y (480,) type of y <class 'numpy.ndarray'> \n",
      "size of weights (12289,)\n",
      "test accuracy 75.72\n",
      "Elapsed time 5.006356239318848\n"
     ]
    },
    {
     "data": {
      "image/png": "[encoded data removed]",
      "text/plain": [
       "<Figure size 432x288 with 1 Axes>"
      ]
     },
     "metadata": {
      "needs_background": "light"
     },
     "output_type": "display_data"
    },
    {
     "name": "stdout",
     "output_type": "stream",
     "text": [
      "\n",
      "\n",
      "learning rate 0.005\n",
      "size of X (480, 12289) \n",
      "size of y (480,) type of y <class 'numpy.ndarray'> \n",
      "size of weights (12289,)\n",
      "test accuracy 75.72\n",
      "Elapsed time 4.503736734390259\n"
     ]
    },
    {
     "data": {
      "image/png": "[encoded data removed]",
      "text/plain": [
       "<Figure size 432x288 with 1 Axes>"
      ]
     },
     "metadata": {
      "needs_background": "light"
     },
     "output_type": "display_data"
    },
    {
     "name": "stdout",
     "output_type": "stream",
     "text": [
      "\n",
      "\n",
      "learning rate 0.01\n",
      "size of X (480, 12289) \n",
      "size of y (480,) type of y <class 'numpy.ndarray'> \n",
      "size of weights (12289,)\n",
      "test accuracy 75.84\n",
      "Elapsed time 4.072738885879517\n"
     ]
    },
    {
     "data": {
      "image/png": "[encoded data removed]",
      "text/plain": [
       "<Figure size 432x288 with 1 Axes>"
      ]
     },
     "metadata": {
      "needs_background": "light"
     },
     "output_type": "display_data"
    },
    {
     "name": "stdout",
     "output_type": "stream",
     "text": [
      "\n",
      "\n",
      "learning rate 0.05\n",
      "size of X (480, 12289) \n",
      "size of y (480,) type of y <class 'numpy.ndarray'> \n",
      "size of weights (12289,)\n",
      "test accuracy 75.36\n",
      "Elapsed time 4.16383957862854\n"
     ]
    },
    {
     "data": {
      "image/png": "[encoded data removed]",
      "text/plain": [
       "<Figure size 432x288 with 1 Axes>"
      ]
     },
     "metadata": {
      "needs_background": "light"
     },
     "output_type": "display_data"
    },
    {
     "name": "stdout",
     "output_type": "stream",
     "text": [
      "\n",
      "\n",
      "learning rate 0.1\n",
      "size of X (480, 12289) \n",
      "size of y (480,) type of y <class 'numpy.ndarray'> \n",
      "size of weights (12289,)\n",
      "test accuracy 75.12\n",
      "Elapsed time 4.358670234680176\n"
     ]
    },
    {
     "data": {
      "image/png": "[encoded data removed]",
      "text/plain": [
       "<Figure size 432x288 with 1 Axes>"
      ]
     },
     "metadata": {
      "needs_background": "light"
     },
     "output_type": "display_data"
    },
    {
     "name": "stdout",
     "output_type": "stream",
     "text": [
      "\n",
      "\n"
     ]
    }
   ],
   "source": [
    "alpha_lr = np.array([1e-5, 5e-5, 1e-4, 5e-4, 1e-3, 5e-3, 1e-2, 5e-2, 1e-1])\n",
    "test_acc_lr=np.zeros(alpha_lr.shape[0])\n",
    "idx=0\n",
    "# print(test_acc_list)\n",
    "elapsed_time = np.zeros(alpha_lr.shape[0])\n",
    "for lr in alpha_lr:\n",
    "    elapsed_time[idx] = time.time()\n",
    "    print(\"learning rate\", lr)\n",
    "    regressor_lr = LogisticRegression(X_train_scl, y_train.flatten())\n",
    "    J_lr = regressor_lr.fit(lr , iters)\n",
    "    y_test_pred_lr = regressor_lr.predict(X_test_scl, 0.5)\n",
    "    test_acc_lr[idx] = (y_test_pred_lr == test_set_y).sum()/150\n",
    "    print(\"test accuracy\",test_acc_lr[idx])\n",
    "    elapsed_time[idx] = time.time() - elapsed_time[idx]\n",
    "    print(\"Elapsed time\", elapsed_time[idx])\n",
    "    plt.figure(idx)\n",
    "    plt.plot(range(0,iters), J_lr)\n",
    "    plt.show()\n",
    "    print(\"\\n\")\n",
    "    idx += 1"
   ]
  },
  {
   "cell_type": "code",
   "execution_count": 7,
   "id": "f495eed7",
   "metadata": {
    "execution": {
     "iopub.execute_input": "2022-02-11T20:52:19.854299Z",
     "iopub.status.busy": "2022-02-11T20:52:19.847232Z",
     "iopub.status.idle": "2022-02-11T20:52:20.797560Z",
     "shell.execute_reply": "2022-02-11T20:52:20.797001Z",
     "shell.execute_reply.started": "2022-02-11T20:40:45.605957Z"
    },
    "papermill": {
     "duration": 0.993571,
     "end_time": "2022-02-11T20:52:20.797735",
     "exception": false,
     "start_time": "2022-02-11T20:52:19.804164",
     "status": "completed"
    },
    "tags": []
   },
   "outputs": [
    {
     "data": {
      "image/png": "[encoded data removed]",
      "text/plain": [
       "<Figure size 432x288 with 1 Axes>"
      ]
     },
     "metadata": {
      "needs_background": "light"
     },
     "output_type": "display_data"
    }
   ],
   "source": [
    "plt.plot(alpha_lr, test_acc_lr)\n",
    "plt.xscale('log')\n",
    "plt.ylabel(\"Test accuracy\")\n",
    "plt.xlabel(\"Learning rate\")\n",
    "plt.savefig(\"test_acc_vs_lr.png\")\n",
    "plt.show()"
   ]
  },
  {
   "cell_type": "code",
   "execution_count": 8,
   "id": "d3a679ca",
   "metadata": {
    "execution": {
     "iopub.execute_input": "2022-02-11T20:52:20.870917Z",
     "iopub.status.busy": "2022-02-11T20:52:20.864197Z",
     "iopub.status.idle": "2022-02-11T20:52:20.877067Z",
     "shell.execute_reply": "2022-02-11T20:52:20.877840Z",
     "shell.execute_reply.started": "2022-02-11T20:42:06.581531Z"
    },
    "papermill": {
     "duration": 0.048666,
     "end_time": "2022-02-11T20:52:20.878102",
     "exception": false,
     "start_time": "2022-02-11T20:52:20.829436",
     "status": "completed"
    },
    "tags": []
   },
   "outputs": [
    {
     "name": "stdout",
     "output_type": "stream",
     "text": [
      "Type of X <class 'numpy.ndarray'> Shape: (48, 12289)\n",
      "Type of y <class 'numpy.ndarray'> Shape: (48, 1)\n"
     ]
    }
   ],
   "source": [
    "def select_subset_from_dataset(imgs, labels, ratio, shuffle=True, seed=1234):\n",
    "    \"\"\"\n",
    "    Args:\n",
    "     imgs: numpy array representing the image set from which \n",
    "        the selection is made.\n",
    "     labels: the labels associated with the provided images.\n",
    "     ratio (optional): portion of the data to be selected. Default: 0.1.\n",
    "     shuffle (optional): Whether or not to shuffle the data. Default: True.\n",
    "     seed (optional): seed of the numpy random generator: Default: 1234.\n",
    "\n",
    "    Return:\n",
    "     A tuple of 2 elements (select_imgs, select_labels)\n",
    "     where:\n",
    "        select_imgs: a numpy array of the selected images.\n",
    "        select_labels: labels associated with the selected images.\n",
    "\n",
    "    \"\"\"\n",
    "    if shuffle:\n",
    "        np.random.seed(seed)  # Set the random seed of numpy.\n",
    "        indices = np.random.permutation(imgs.shape[0])\n",
    "    else:\n",
    "        indices = np.arange(imgs.shape[0])\n",
    "    idx, _ = np.split(indices, [int(ratio*len(indices))])\n",
    "    select_imgs = imgs[idx]\n",
    "    tgt = np.array(labels)\n",
    "    select_labels = tgt[idx]#.tolist()\n",
    "    return select_imgs, select_labels\n",
    "\n",
    "\n",
    "select_imgs, select_labels = select_subset_from_dataset(\n",
    "    X_train_app, y_train, 0.1\n",
    ")\n",
    "print(\"Type of X\", type(select_imgs), \"Shape:\", select_imgs.shape)\n",
    "print(\"Type of y\", type(select_labels), \"Shape:\", select_labels.shape)"
   ]
  },
  {
   "cell_type": "code",
   "execution_count": 9,
   "id": "b6945922",
   "metadata": {
    "execution": {
     "iopub.execute_input": "2022-02-11T20:52:20.946572Z",
     "iopub.status.busy": "2022-02-11T20:52:20.945895Z",
     "iopub.status.idle": "2022-02-11T20:53:00.560455Z",
     "shell.execute_reply": "2022-02-11T20:53:00.561507Z",
     "shell.execute_reply.started": "2022-02-11T20:42:18.784179Z"
    },
    "papermill": {
     "duration": 39.650801,
     "end_time": "2022-02-11T20:53:00.561798",
     "exception": false,
     "start_time": "2022-02-11T20:52:20.910997",
     "status": "completed"
    },
    "tags": []
   },
   "outputs": [
    {
     "name": "stdout",
     "output_type": "stream",
     "text": [
      "training set size 0.1\n",
      "size of X (48, 12289) \n",
      "size of y (48,) type of y <class 'numpy.ndarray'> \n",
      "size of weights (12289,)\n",
      "test accuracy: 74.4 \n",
      "\n",
      "training set size 0.15000000000000002\n",
      "size of X (72, 12289) \n",
      "size of y (72,) type of y <class 'numpy.ndarray'> \n",
      "size of weights (12289,)\n",
      "test accuracy: 75.0 \n",
      "\n",
      "training set size 0.2\n",
      "size of X (96, 12289) \n",
      "size of y (96,) type of y <class 'numpy.ndarray'> \n",
      "size of weights (12289,)\n",
      "test accuracy: 74.76 \n",
      "\n",
      "training set size 0.25\n",
      "size of X (120, 12289) \n",
      "size of y (120,) type of y <class 'numpy.ndarray'> \n",
      "size of weights (12289,)\n",
      "test accuracy: 75.36 \n",
      "\n",
      "training set size 0.30000000000000004\n",
      "size of X (144, 12289) \n",
      "size of y (144,) type of y <class 'numpy.ndarray'> \n",
      "size of weights (12289,)\n",
      "test accuracy: 75.36 \n",
      "\n",
      "training set size 0.35\n",
      "size of X (168, 12289) \n",
      "size of y (168,) type of y <class 'numpy.ndarray'> \n",
      "size of weights (12289,)\n",
      "test accuracy: 75.12 \n",
      "\n",
      "training set size 0.4\n",
      "size of X (192, 12289) \n",
      "size of y (192,) type of y <class 'numpy.ndarray'> \n",
      "size of weights (12289,)\n",
      "test accuracy: 74.76 \n",
      "\n",
      "training set size 0.45000000000000007\n",
      "size of X (216, 12289) \n",
      "size of y (216,) type of y <class 'numpy.ndarray'> \n",
      "size of weights (12289,)\n",
      "test accuracy: 75.48 \n",
      "\n",
      "training set size 0.5\n",
      "size of X (240, 12289) \n",
      "size of y (240,) type of y <class 'numpy.ndarray'> \n",
      "size of weights (12289,)\n",
      "test accuracy: 75.48 \n",
      "\n",
      "training set size 0.55\n",
      "size of X (264, 12289) \n",
      "size of y (264,) type of y <class 'numpy.ndarray'> \n",
      "size of weights (12289,)\n",
      "test accuracy: 75.48 \n",
      "\n",
      "training set size 0.6\n",
      "size of X (288, 12289) \n",
      "size of y (288,) type of y <class 'numpy.ndarray'> \n",
      "size of weights (12289,)\n",
      "test accuracy: 75.72 \n",
      "\n",
      "training set size 0.65\n",
      "size of X (312, 12289) \n",
      "size of y (312,) type of y <class 'numpy.ndarray'> \n",
      "size of weights (12289,)\n",
      "test accuracy: 75.72 \n",
      "\n",
      "training set size 0.7000000000000001\n",
      "size of X (336, 12289) \n",
      "size of y (336,) type of y <class 'numpy.ndarray'> \n",
      "size of weights (12289,)\n",
      "test accuracy: 75.72 \n",
      "\n",
      "training set size 0.75\n",
      "size of X (360, 12289) \n",
      "size of y (360,) type of y <class 'numpy.ndarray'> \n",
      "size of weights (12289,)\n",
      "test accuracy: 75.6 \n",
      "\n",
      "training set size 0.8\n",
      "size of X (384, 12289) \n",
      "size of y (384,) type of y <class 'numpy.ndarray'> \n",
      "size of weights (12289,)\n",
      "test accuracy: 75.72 \n",
      "\n",
      "training set size 0.85\n",
      "size of X (408, 12289) \n",
      "size of y (408,) type of y <class 'numpy.ndarray'> \n",
      "size of weights (12289,)\n",
      "test accuracy: 75.72 \n",
      "\n",
      "training set size 0.9\n",
      "size of X (432, 12289) \n",
      "size of y (432,) type of y <class 'numpy.ndarray'> \n",
      "size of weights (12289,)\n",
      "test accuracy: 75.72 \n",
      "\n",
      "training set size 0.9500000000000001\n",
      "size of X (456, 12289) \n",
      "size of y (456,) type of y <class 'numpy.ndarray'> \n",
      "size of weights (12289,)\n",
      "test accuracy: 75.72 \n",
      "\n",
      "training set size 1.0\n",
      "size of X (480, 12289) \n",
      "size of y (480,) type of y <class 'numpy.ndarray'> \n",
      "size of weights (12289,)\n",
      "test accuracy: 75.72 \n",
      "\n"
     ]
    }
   ],
   "source": [
    "percent_data = np.linspace(0.1, 1.0, 19)\n",
    "# print(percent_data)\n",
    "test_acc_pr=np.zeros(percent_data.shape[0])\n",
    "ix = 0\n",
    "for pr in percent_data:\n",
    "    print(\"training set size\", pr)\n",
    "    pr_train_X, pr_train_y = select_subset_from_dataset(X_train_scl, y_train, ratio=pr)\n",
    "    regressor_pr = LogisticRegression(pr_train_X, pr_train_y.flatten())\n",
    "    regressor_pr.fit(alpha , iters)\n",
    "    y_test_pred_pr = regressor_pr.predict(X_test_scl,0.5)\n",
    "    test_acc_pr[ix] = (y_test_pred_pr == test_set_y).sum()/150\n",
    "    print(\"test accuracy:\",test_acc_pr[ix],\"\\n\")\n",
    "    ix += 1\n"
   ]
  },
  {
   "cell_type": "code",
   "execution_count": 10,
   "id": "e6ea1688",
   "metadata": {
    "execution": {
     "iopub.execute_input": "2022-02-11T20:53:00.703093Z",
     "iopub.status.busy": "2022-02-11T20:53:00.702047Z",
     "iopub.status.idle": "2022-02-11T20:53:00.933749Z",
     "shell.execute_reply": "2022-02-11T20:53:00.934285Z",
     "shell.execute_reply.started": "2022-02-11T20:44:45.559952Z"
    },
    "papermill": {
     "duration": 0.29931,
     "end_time": "2022-02-11T20:53:00.934461",
     "exception": false,
     "start_time": "2022-02-11T20:53:00.635151",
     "status": "completed"
    },
    "tags": []
   },
   "outputs": [
    {
     "data": {
      "image/png": "[encoded data removed]",
      "text/plain": [
       "<Figure size 432x288 with 1 Axes>"
      ]
     },
     "metadata": {
      "needs_background": "light"
     },
     "output_type": "display_data"
    }
   ],
   "source": [
    "plt.plot(percent_data, test_acc_pr, '*')\n",
    "plt.xlabel('Fraction of training data')\n",
    "plt.ylabel(\"Test accuracy\")\n",
    "plt.savefig(\"Percentage_Train.png\")\n",
    "plt.show()"
   ]
  }
 ],
 "metadata": {
  "kernelspec": {
   "display_name": "Python 3",
   "language": "python",
   "name": "python3"
  },
  "language_info": {
   "codemirror_mode": {
    "name": "ipython",
    "version": 3
   },
   "file_extension": ".py",
   "mimetype": "text/x-python",
   "name": "python",
   "nbconvert_exporter": "python",
   "pygments_lexer": "ipython3",
   "version": "3.7.12"
  },
  "papermill": {
   "default_parameters": {},
   "duration": 99.782822,
   "end_time": "2022-02-11T20:53:01.686187",
   "environment_variables": {},
   "exception": null,
   "input_path": "__notebook__.ipynb",
   "output_path": "__notebook__.ipynb",
   "parameters": {},
   "start_time": "2022-02-11T20:51:21.903365",
   "version": "2.3.3"
  }
 },
 "nbformat": 4,
 "nbformat_minor": 5
}
