{
 "cells": [
  {
   "cell_type": "code",
   "execution_count": 1,
   "id": "97c1fecc",
   "metadata": {
    "_cell_guid": "b1076dfc-b9ad-4769-8c92-a6c4dae69d19",
    "_uuid": "8f2839f25d086af736a60e9eeb907d3b93b6e0e5",
    "execution": {
     "iopub.execute_input": "2022-04-17T19:24:57.348935Z",
     "iopub.status.busy": "2022-04-17T19:24:57.348192Z",
     "iopub.status.idle": "2022-04-17T19:24:58.879058Z",
     "shell.execute_reply": "2022-04-17T19:24:58.878102Z"
    },
    "papermill": {
     "duration": 1.563211,
     "end_time": "2022-04-17T19:24:58.881448",
     "exception": false,
     "start_time": "2022-04-17T19:24:57.318237",
     "status": "completed"
    },
    "tags": []
   },
   "outputs": [],
   "source": [
    "import numpy as np \n",
    "import pandas as pd\n",
    "\n",
    "from sklearn.datasets import load_digits\n",
    "from sklearn.metrics import calinski_harabasz_score, silhouette_score\n",
    "from sklearn.cluster import KMeans\n",
    "\n",
    "import matplotlib.pyplot as plt"
   ]
  },
  {
   "cell_type": "markdown",
   "id": "29de7608",
   "metadata": {
    "papermill": {
     "duration": 0.027474,
     "end_time": "2022-04-17T19:24:58.936199",
     "exception": false,
     "start_time": "2022-04-17T19:24:58.908725",
     "status": "completed"
    },
    "tags": []
   },
   "source": [
    "# Load data"
   ]
  },
  {
   "cell_type": "code",
   "execution_count": 2,
   "id": "1beb8a94",
   "metadata": {
    "execution": {
     "iopub.execute_input": "2022-04-17T19:24:58.992260Z",
     "iopub.status.busy": "2022-04-17T19:24:58.991975Z",
     "iopub.status.idle": "2022-04-17T19:24:59.082402Z",
     "shell.execute_reply": "2022-04-17T19:24:59.081256Z"
    },
    "papermill": {
     "duration": 0.121612,
     "end_time": "2022-04-17T19:24:59.084835",
     "exception": false,
     "start_time": "2022-04-17T19:24:58.963223",
     "status": "completed"
    },
    "tags": []
   },
   "outputs": [
    {
     "name": "stdout",
     "output_type": "stream",
     "text": [
      "Feauters -> type:<class 'numpy.ndarray'>; shape:(1797, 64)\n",
      "Labels   -> type:<class 'numpy.ndarray'>; shape:(1797,)\n"
     ]
    }
   ],
   "source": [
    "digits = load_digits()\n",
    "features = digits.data\n",
    "labels = digits.target\n",
    "print(f\"Feauters -> type:{type(features)}; shape:{features.shape}\")\n",
    "print(f\"Labels   -> type:{type(labels)}; shape:{labels.shape}\")"
   ]
  },
  {
   "cell_type": "code",
   "execution_count": 3,
   "id": "ab1e9279",
   "metadata": {
    "execution": {
     "iopub.execute_input": "2022-04-17T19:24:59.144615Z",
     "iopub.status.busy": "2022-04-17T19:24:59.144351Z",
     "iopub.status.idle": "2022-04-17T19:24:59.151025Z",
     "shell.execute_reply": "2022-04-17T19:24:59.150376Z"
    },
    "papermill": {
     "duration": 0.038976,
     "end_time": "2022-04-17T19:24:59.153528",
     "exception": false,
     "start_time": "2022-04-17T19:24:59.114552",
     "status": "completed"
    },
    "tags": []
   },
   "outputs": [
    {
     "name": "stdout",
     "output_type": "stream",
     "text": [
      "[0 1 2 3 4 5 6 7 8 9]\n"
     ]
    }
   ],
   "source": [
    "print(labels[:10])"
   ]
  },
  {
   "cell_type": "markdown",
   "id": "f38765c9",
   "metadata": {
    "papermill": {
     "duration": 0.027599,
     "end_time": "2022-04-17T19:24:59.211342",
     "exception": false,
     "start_time": "2022-04-17T19:24:59.183743",
     "status": "completed"
    },
    "tags": []
   },
   "source": [
    "# PCA "
   ]
  },
  {
   "cell_type": "code",
   "execution_count": 4,
   "id": "3afa39f9",
   "metadata": {
    "execution": {
     "iopub.execute_input": "2022-04-17T19:24:59.268121Z",
     "iopub.status.busy": "2022-04-17T19:24:59.267578Z",
     "iopub.status.idle": "2022-04-17T19:24:59.274570Z",
     "shell.execute_reply": "2022-04-17T19:24:59.273596Z"
    },
    "papermill": {
     "duration": 0.03726,
     "end_time": "2022-04-17T19:24:59.276562",
     "exception": false,
     "start_time": "2022-04-17T19:24:59.239302",
     "status": "completed"
    },
    "tags": []
   },
   "outputs": [
    {
     "name": "stdout",
     "output_type": "stream",
     "text": [
      "Shape of mean:(64,)\n"
     ]
    }
   ],
   "source": [
    "# sample average\n",
    "mu = np.mean(features, axis=0)\n",
    "print(f\"Shape of mean:{mu.shape}\")\n",
    "\n",
    "# mean centered sample\n",
    "X = features - mu\n",
    "# print(np.mean(X, axis=0))"
   ]
  },
  {
   "cell_type": "code",
   "execution_count": 5,
   "id": "6d4e7b26",
   "metadata": {
    "execution": {
     "iopub.execute_input": "2022-04-17T19:24:59.332761Z",
     "iopub.status.busy": "2022-04-17T19:24:59.332107Z",
     "iopub.status.idle": "2022-04-17T19:24:59.359151Z",
     "shell.execute_reply": "2022-04-17T19:24:59.358440Z"
    },
    "papermill": {
     "duration": 0.057445,
     "end_time": "2022-04-17T19:24:59.361311",
     "exception": false,
     "start_time": "2022-04-17T19:24:59.303866",
     "status": "completed"
    },
    "tags": []
   },
   "outputs": [
    {
     "name": "stdout",
     "output_type": "stream",
     "text": [
      "shape of covariance matrix:(64, 64)\n"
     ]
    }
   ],
   "source": [
    "# the covariance matrix\n",
    "A = np.cov(X, rowvar=False)\n",
    "print(f\"shape of covariance matrix:{A.shape}\")\n",
    "# eigenvalues and right eigenvectors\n",
    "eig_value, eig_vect = np.linalg.eig(A)"
   ]
  },
  {
   "cell_type": "code",
   "execution_count": 6,
   "id": "5aa7a0d4",
   "metadata": {
    "execution": {
     "iopub.execute_input": "2022-04-17T19:24:59.419484Z",
     "iopub.status.busy": "2022-04-17T19:24:59.419024Z",
     "iopub.status.idle": "2022-04-17T19:24:59.424905Z",
     "shell.execute_reply": "2022-04-17T19:24:59.423880Z"
    },
    "papermill": {
     "duration": 0.037092,
     "end_time": "2022-04-17T19:24:59.426975",
     "exception": false,
     "start_time": "2022-04-17T19:24:59.389883",
     "status": "completed"
    },
    "tags": []
   },
   "outputs": [
    {
     "name": "stdout",
     "output_type": "stream",
     "text": [
      "eigenValues: (64,); type: <class 'numpy.ndarray'>\n",
      "eigenValues: (64, 64); type: <class 'numpy.ndarray'>\n"
     ]
    }
   ],
   "source": [
    "print(f\"eigenValues: {eig_value.shape}; type: {type(eig_value)}\")\n",
    "print(f\"eigenValues: {eig_vect.shape}; type: {type(eig_vect)}\")"
   ]
  },
  {
   "cell_type": "code",
   "execution_count": 7,
   "id": "dd89b219",
   "metadata": {
    "execution": {
     "iopub.execute_input": "2022-04-17T19:24:59.485111Z",
     "iopub.status.busy": "2022-04-17T19:24:59.484824Z",
     "iopub.status.idle": "2022-04-17T19:24:59.490797Z",
     "shell.execute_reply": "2022-04-17T19:24:59.489694Z"
    },
    "papermill": {
     "duration": 0.037939,
     "end_time": "2022-04-17T19:24:59.492914",
     "exception": false,
     "start_time": "2022-04-17T19:24:59.454975",
     "status": "completed"
    },
    "tags": []
   },
   "outputs": [
    {
     "name": "stdout",
     "output_type": "stream",
     "text": [
      "k:30 -> energy:0.9547965245651596\n"
     ]
    }
   ],
   "source": [
    "# find the value of K for which 95% of energy is retained\n",
    "k = 1\n",
    "energy = 0\n",
    "while energy <= 0.95:\n",
    "    eig_value_k = eig_value[:k]\n",
    "    energy = eig_value_k.sum()/eig_value.sum()\n",
    "    k += 1\n",
    "#     print(energy)\n",
    "print(f\"k:{k} -> energy:{energy}\")"
   ]
  },
  {
   "cell_type": "code",
   "execution_count": 8,
   "id": "505e4697",
   "metadata": {
    "execution": {
     "iopub.execute_input": "2022-04-17T19:24:59.551925Z",
     "iopub.status.busy": "2022-04-17T19:24:59.551096Z",
     "iopub.status.idle": "2022-04-17T19:24:59.556325Z",
     "shell.execute_reply": "2022-04-17T19:24:59.555080Z"
    },
    "papermill": {
     "duration": 0.037182,
     "end_time": "2022-04-17T19:24:59.558209",
     "exception": false,
     "start_time": "2022-04-17T19:24:59.521027",
     "status": "completed"
    },
    "tags": []
   },
   "outputs": [
    {
     "name": "stdout",
     "output_type": "stream",
     "text": [
      "shape of projection matrix: (64, 30)\n"
     ]
    }
   ],
   "source": [
    "# choose the first k eigen vectors\n",
    "U_k = eig_vect[:, :k]\n",
    "print(f\"shape of projection matrix: {U_k.shape}\")"
   ]
  },
  {
   "cell_type": "code",
   "execution_count": 9,
   "id": "8a20edd9",
   "metadata": {
    "execution": {
     "iopub.execute_input": "2022-04-17T19:24:59.619152Z",
     "iopub.status.busy": "2022-04-17T19:24:59.618561Z",
     "iopub.status.idle": "2022-04-17T19:24:59.627145Z",
     "shell.execute_reply": "2022-04-17T19:24:59.626104Z"
    },
    "papermill": {
     "duration": 0.042066,
     "end_time": "2022-04-17T19:24:59.630478",
     "exception": false,
     "start_time": "2022-04-17T19:24:59.588412",
     "status": "completed"
    },
    "tags": []
   },
   "outputs": [
    {
     "name": "stdout",
     "output_type": "stream",
     "text": [
      "projected matrix shape: (1797, 30)\n"
     ]
    }
   ],
   "source": [
    "# Projection\n",
    "X_proj = X.dot(U_k)\n",
    "print(f\"projected matrix shape: {X_proj.shape}\")"
   ]
  },
  {
   "cell_type": "markdown",
   "id": "dbced4ab",
   "metadata": {
    "papermill": {
     "duration": 0.056992,
     "end_time": "2022-04-17T19:24:59.746875",
     "exception": false,
     "start_time": "2022-04-17T19:24:59.689883",
     "status": "completed"
    },
    "tags": []
   },
   "source": [
    "# K-means clustering"
   ]
  },
  {
   "cell_type": "code",
   "execution_count": 10,
   "id": "6fb67b98",
   "metadata": {
    "execution": {
     "iopub.execute_input": "2022-04-17T19:24:59.807867Z",
     "iopub.status.busy": "2022-04-17T19:24:59.807553Z",
     "iopub.status.idle": "2022-04-17T19:24:59.812811Z",
     "shell.execute_reply": "2022-04-17T19:24:59.811901Z"
    },
    "papermill": {
     "duration": 0.03932,
     "end_time": "2022-04-17T19:24:59.814796",
     "exception": false,
     "start_time": "2022-04-17T19:24:59.775476",
     "status": "completed"
    },
    "tags": []
   },
   "outputs": [],
   "source": [
    "def compute_cost(X, centroids, cluster):\n",
    "    m = X.shape[0]\n",
    "    sum = 0\n",
    "    for i in range(m):\n",
    "        sum += (X[i] - centroids[int(cluster[i])]) @ (X[i] - centroids[int(cluster[i])]).T\n",
    "    cost = sum/m\n",
    "    return cost"
   ]
  },
  {
   "cell_type": "code",
   "execution_count": 11,
   "id": "927a2abe",
   "metadata": {
    "execution": {
     "iopub.execute_input": "2022-04-17T19:24:59.877404Z",
     "iopub.status.busy": "2022-04-17T19:24:59.876828Z",
     "iopub.status.idle": "2022-04-17T19:24:59.885013Z",
     "shell.execute_reply": "2022-04-17T19:24:59.884346Z"
    },
    "papermill": {
     "duration": 0.043466,
     "end_time": "2022-04-17T19:24:59.887151",
     "exception": false,
     "start_time": "2022-04-17T19:24:59.843685",
     "status": "completed"
    },
    "tags": []
   },
   "outputs": [],
   "source": [
    "def my_kmeans(X, k, seed=41):\n",
    "    diff = 1\n",
    "    np.random.seed(seed)\n",
    "    cluster_labels = np.zeros(X.shape[0]) #cluster label for each sample\n",
    "    rand_idx = np.random.choice(len(X), k, replace=False)\n",
    "    #Randomly choosing Centroids \n",
    "    centroids = X[rand_idx, :] #Step 1 \n",
    "    \n",
    "    while diff:\n",
    "        for i, row in enumerate(X):\n",
    "            min_dist = float('inf')\n",
    "            for idx, centroid in enumerate(centroids):\n",
    "                d = np.sqrt((row - centroid) @ (row-centroid).T)\n",
    "                if min_dist > d:\n",
    "                    min_dist = d\n",
    "                    cluster_labels[i] = idx\n",
    "        new_centroids = pd.DataFrame(X).groupby(by=cluster_labels).mean().values\n",
    "        \n",
    "        if np.count_nonzero(centroids-new_centroids) == 0:\n",
    "            diff = 0\n",
    "        else:\n",
    "            centroids = new_centroids\n",
    "    cost = compute_cost(X, centroids, cluster_labels)\n",
    "    cal_score = calinski_harabasz_score(X, cluster_labels)\n",
    "    return centroids, cluster_labels, cost, cal_score"
   ]
  },
  {
   "cell_type": "markdown",
   "id": "9025879e",
   "metadata": {
    "papermill": {
     "duration": 0.028991,
     "end_time": "2022-04-17T19:24:59.946482",
     "exception": false,
     "start_time": "2022-04-17T19:24:59.917491",
     "status": "completed"
    },
    "tags": []
   },
   "source": [
    "# With PCA"
   ]
  },
  {
   "cell_type": "markdown",
   "id": "7eab14d6",
   "metadata": {
    "papermill": {
     "duration": 0.028533,
     "end_time": "2022-04-17T19:25:00.003786",
     "exception": false,
     "start_time": "2022-04-17T19:24:59.975253",
     "status": "completed"
    },
    "tags": []
   },
   "source": [
    "## Variation wrt No of Clusters"
   ]
  },
  {
   "cell_type": "code",
   "execution_count": 12,
   "id": "0c7cd3c0",
   "metadata": {
    "execution": {
     "iopub.execute_input": "2022-04-17T19:25:00.062900Z",
     "iopub.status.busy": "2022-04-17T19:25:00.062381Z",
     "iopub.status.idle": "2022-04-17T19:25:00.066639Z",
     "shell.execute_reply": "2022-04-17T19:25:00.066068Z"
    },
    "papermill": {
     "duration": 0.036118,
     "end_time": "2022-04-17T19:25:00.068528",
     "exception": false,
     "start_time": "2022-04-17T19:25:00.032410",
     "status": "completed"
    },
    "tags": []
   },
   "outputs": [],
   "source": [
    "def plot_cost(cost, k):\n",
    "    plt.plot(range(2, k), cost)\n",
    "    plt.show()"
   ]
  },
  {
   "cell_type": "code",
   "execution_count": 13,
   "id": "0458ee77",
   "metadata": {
    "execution": {
     "iopub.execute_input": "2022-04-17T19:25:00.127364Z",
     "iopub.status.busy": "2022-04-17T19:25:00.126814Z",
     "iopub.status.idle": "2022-04-17T19:25:18.947631Z",
     "shell.execute_reply": "2022-04-17T19:25:18.946792Z"
    },
    "papermill": {
     "duration": 18.852859,
     "end_time": "2022-04-17T19:25:18.949571",
     "exception": false,
     "start_time": "2022-04-17T19:25:00.096712",
     "status": "completed"
    },
    "tags": []
   },
   "outputs": [
    {
     "name": "stdout",
     "output_type": "stream",
     "text": [
      "k=2 -> cost:1022.846; calinski:227.217; sil:0.113\n",
      "k=3 -> cost:914.029; calinski:233.853; sil:0.132\n",
      "k=4 -> cost:848.284; calinski:214.212; sil:0.135\n",
      "k=5 -> cost:793.839; calinski:202.308; sil:0.147\n",
      "k=6 -> cost:758.399; calinski:186.053; sil:0.152\n",
      "k=7 -> cost:696.494; calinski:195.247; sil:0.172\n",
      "k=8 -> cost:675.095; calinski:180.664; sil:0.160\n",
      "k=9 -> cost:640.197; calinski:178.788; sil:0.174\n",
      "k=10 -> cost:599.847; calinski:182.874; sil:0.194\n",
      "k=11 -> cost:590.265; calinski:170.065; sil:0.179\n",
      "k=12 -> cost:576.832; calinski:161.895; sil:0.177\n",
      "k=13 -> cost:558.276; calinski:158.192; sil:0.177\n",
      "k=14 -> cost:546.042; calinski:152.284; sil:0.179\n"
     ]
    },
    {
     "data": {
      "image/png": "[encoded data removed]",
      "text/plain": [
       "<Figure size 432x288 with 1 Axes>"
      ]
     },
     "metadata": {
      "needs_background": "light"
     },
     "output_type": "display_data"
    }
   ],
   "source": [
    "K = 15\n",
    "cost = np.zeros(K-2)\n",
    "sil_score = np.zeros(K-2)\n",
    "cal_score = np.zeros(K-2)\n",
    "centroids_lst = []\n",
    "labels = np.zeros((K-1, X.shape[0]))\n",
    "\n",
    "for k in range(2, K):\n",
    "    centroids, labels[k-2], cost[k-2], cal_score[k-2] = my_kmeans(X_proj, k)\n",
    "    centroids_lst.append(centroids)\n",
    "    sil_score[k-2] = silhouette_score(X_proj, labels[k-2])\n",
    "    print(f\"k={k} -> cost:{cost[k-2]:.3f}; calinski:{cal_score[k-2]:.3f}; sil:{sil_score[k-2]:.3f}\")\n",
    "\n",
    "# print(f\"silhouette_score:{sil_score}\\nCost: {cost}\\ncalinski_harabasz_score: {cal_score}\")\n",
    "plot_cost(cost, K)"
   ]
  },
  {
   "cell_type": "code",
   "execution_count": 14,
   "id": "d6158b5e",
   "metadata": {
    "execution": {
     "iopub.execute_input": "2022-04-17T19:25:19.020216Z",
     "iopub.status.busy": "2022-04-17T19:25:19.019900Z",
     "iopub.status.idle": "2022-04-17T19:25:19.174477Z",
     "shell.execute_reply": "2022-04-17T19:25:19.173318Z"
    },
    "papermill": {
     "duration": 0.194105,
     "end_time": "2022-04-17T19:25:19.176636",
     "exception": false,
     "start_time": "2022-04-17T19:25:18.982531",
     "status": "completed"
    },
    "tags": []
   },
   "outputs": [
    {
     "data": {
      "image/png": "[encoded data removed]",
      "text/plain": [
       "<Figure size 432x288 with 1 Axes>"
      ]
     },
     "metadata": {
      "needs_background": "light"
     },
     "output_type": "display_data"
    }
   ],
   "source": [
    "plt.figure()\n",
    "plt.plot(range(2, K), cost)\n",
    "plt.savefig(\"pca_cost_vs_clusters.png\")\n",
    "plt.xlabel(\"No of clusters\")\n",
    "plt.ylabel(\"Cost\")\n",
    "plt.show()"
   ]
  },
  {
   "cell_type": "code",
   "execution_count": 15,
   "id": "222d689e",
   "metadata": {
    "execution": {
     "iopub.execute_input": "2022-04-17T19:25:19.245804Z",
     "iopub.status.busy": "2022-04-17T19:25:19.245263Z",
     "iopub.status.idle": "2022-04-17T19:25:19.471799Z",
     "shell.execute_reply": "2022-04-17T19:25:19.471068Z"
    },
    "papermill": {
     "duration": 0.26333,
     "end_time": "2022-04-17T19:25:19.473900",
     "exception": false,
     "start_time": "2022-04-17T19:25:19.210570",
     "status": "completed"
    },
    "tags": []
   },
   "outputs": [
    {
     "data": {
      "image/png": "[encoded data removed]",
      "text/plain": [
       "<Figure size 432x288 with 1 Axes>"
      ]
     },
     "metadata": {
      "needs_background": "light"
     },
     "output_type": "display_data"
    }
   ],
   "source": [
    "plt.figure()\n",
    "plt.plot(range(2, K), cal_score)\n",
    "plt.xlabel(\"No of clusters\")\n",
    "plt.ylabel(\"Calinski-Harabasz Index\")\n",
    "plt.savefig(\"pca_cal_score_vs_clusters.png\")\n",
    "plt.show()"
   ]
  },
  {
   "cell_type": "code",
   "execution_count": 16,
   "id": "045123de",
   "metadata": {
    "execution": {
     "iopub.execute_input": "2022-04-17T19:25:19.544446Z",
     "iopub.status.busy": "2022-04-17T19:25:19.544118Z",
     "iopub.status.idle": "2022-04-17T19:25:19.777862Z",
     "shell.execute_reply": "2022-04-17T19:25:19.776744Z"
    },
    "papermill": {
     "duration": 0.271774,
     "end_time": "2022-04-17T19:25:19.780317",
     "exception": false,
     "start_time": "2022-04-17T19:25:19.508543",
     "status": "completed"
    },
    "tags": []
   },
   "outputs": [
    {
     "data": {
      "image/png": "[encoded data removed]",
      "text/plain": [
       "<Figure size 432x288 with 1 Axes>"
      ]
     },
     "metadata": {
      "needs_background": "light"
     },
     "output_type": "display_data"
    }
   ],
   "source": [
    "plt.figure()\n",
    "plt.plot(range(2, K), sil_score)\n",
    "plt.xlabel(\"No of clusters\")\n",
    "plt.ylabel(\"Silhouette Coefficient\")\n",
    "plt.savefig(\"pca_cost_vs_sil_score.png\")\n",
    "plt.show()"
   ]
  },
  {
   "cell_type": "markdown",
   "id": "99718c4e",
   "metadata": {
    "papermill": {
     "duration": 0.036669,
     "end_time": "2022-04-17T19:25:19.857928",
     "exception": false,
     "start_time": "2022-04-17T19:25:19.821259",
     "status": "completed"
    },
    "tags": []
   },
   "source": [
    "## Variation wrt No of Samples"
   ]
  },
  {
   "cell_type": "code",
   "execution_count": 17,
   "id": "ebafab59",
   "metadata": {
    "execution": {
     "iopub.execute_input": "2022-04-17T19:25:19.932434Z",
     "iopub.status.busy": "2022-04-17T19:25:19.932156Z",
     "iopub.status.idle": "2022-04-17T19:25:27.018776Z",
     "shell.execute_reply": "2022-04-17T19:25:27.018050Z"
    },
    "papermill": {
     "duration": 7.127352,
     "end_time": "2022-04-17T19:25:27.020879",
     "exception": false,
     "start_time": "2022-04-17T19:25:19.893527",
     "status": "completed"
    },
    "tags": []
   },
   "outputs": [
    {
     "name": "stdout",
     "output_type": "stream",
     "text": [
      "j=0.10 -> cost:594.816; calinski:17.635; sil:0.154\n",
      "j=0.20 -> cost:626.488; calinski:32.606; sil:0.165\n",
      "j=0.30 -> cost:607.669; calinski:52.928; sil:0.181\n",
      "j=0.40 -> cost:651.797; calinski:61.314; sil:0.158\n",
      "j=0.50 -> cost:599.290; calinski:92.265; sil:0.198\n",
      "j=0.60 -> cost:610.063; calinski:106.227; sil:0.186\n",
      "j=0.70 -> cost:609.759; calinski:124.000; sil:0.192\n",
      "j=0.80 -> cost:615.841; calinski:138.900; sil:0.170\n",
      "j=0.90 -> cost:609.277; calinski:159.183; sil:0.197\n",
      "j=1.00 -> cost:599.810; calinski:182.898; sil:0.194\n"
     ]
    },
    {
     "data": {
      "text/plain": [
       "[<matplotlib.lines.Line2D at 0x7f7bd25e2610>]"
      ]
     },
     "execution_count": 17,
     "metadata": {},
     "output_type": "execute_result"
    },
    {
     "data": {
      "image/png": "[encoded data removed]",
      "text/plain": [
       "<Figure size 432x288 with 1 Axes>"
      ]
     },
     "metadata": {
      "needs_background": "light"
     },
     "output_type": "display_data"
    }
   ],
   "source": [
    "ki = 10\n",
    "per = np.linspace(0.1, 1, num=10)\n",
    "z = per.shape[0]\n",
    "cost_sam = np.zeros(z)\n",
    "sil_score_sam = np.zeros(z)\n",
    "cal_score_sam = np.zeros(z)\n",
    "centroids_lst_sam = []\n",
    "labels_lst_sam = []\n",
    "for i, j in enumerate(per):\n",
    "    idx = np.random.choice(range(X_proj.shape[0]), int(j*X_proj.shape[0]), replace=False)\n",
    "    X_per = X_proj[idx,:]\n",
    "#     print(i, j, X_per.shape[0])\n",
    "    centroids_sam, labels_sam, cost_sam[i], cal_score_sam[i] = my_kmeans(X_per, ki)\n",
    "    centroids_lst_sam.append(centroids_sam)\n",
    "    labels_lst_sam.append(labels_sam)\n",
    "    sil_score_sam[i] = silhouette_score(X_per, labels_lst_sam[i])\n",
    "    print(f\"j={j:.2f} -> cost:{cost_sam[i]:.3f}; calinski:{cal_score_sam[i]:.3f}; sil:{sil_score_sam[i]:.3f}\")\n",
    "\n",
    "plt.plot(per, sil_score_sam)"
   ]
  },
  {
   "cell_type": "code",
   "execution_count": 18,
   "id": "c061bfe1",
   "metadata": {
    "execution": {
     "iopub.execute_input": "2022-04-17T19:25:27.103576Z",
     "iopub.status.busy": "2022-04-17T19:25:27.103271Z",
     "iopub.status.idle": "2022-04-17T19:25:27.313725Z",
     "shell.execute_reply": "2022-04-17T19:25:27.312805Z"
    },
    "papermill": {
     "duration": 0.253587,
     "end_time": "2022-04-17T19:25:27.315768",
     "exception": false,
     "start_time": "2022-04-17T19:25:27.062181",
     "status": "completed"
    },
    "tags": []
   },
   "outputs": [
    {
     "data": {
      "image/png": "[encoded data removed]",
      "text/plain": [
       "<Figure size 432x288 with 1 Axes>"
      ]
     },
     "metadata": {
      "needs_background": "light"
     },
     "output_type": "display_data"
    }
   ],
   "source": [
    "plt.figure()\n",
    "plt.plot(per, cost_sam)\n",
    "plt.savefig(\"pca_cost_vs_per_sample.png\")\n",
    "plt.xlabel(\"% of total sample\")\n",
    "plt.ylabel(\"Cost\")\n",
    "plt.show()"
   ]
  },
  {
   "cell_type": "code",
   "execution_count": 19,
   "id": "c59b95c3",
   "metadata": {
    "execution": {
     "iopub.execute_input": "2022-04-17T19:25:27.397447Z",
     "iopub.status.busy": "2022-04-17T19:25:27.397154Z",
     "iopub.status.idle": "2022-04-17T19:25:27.607322Z",
     "shell.execute_reply": "2022-04-17T19:25:27.606513Z"
    },
    "papermill": {
     "duration": 0.253568,
     "end_time": "2022-04-17T19:25:27.609342",
     "exception": false,
     "start_time": "2022-04-17T19:25:27.355774",
     "status": "completed"
    },
    "tags": []
   },
   "outputs": [
    {
     "data": {
      "image/png": "[encoded data removed]",
      "text/plain": [
       "<Figure size 432x288 with 1 Axes>"
      ]
     },
     "metadata": {
      "needs_background": "light"
     },
     "output_type": "display_data"
    }
   ],
   "source": [
    "plt.figure()\n",
    "plt.plot(per, cal_score_sam)\n",
    "plt.savefig(\"pca_cal_vs_per_sample.png\")\n",
    "plt.xlabel(\"% of total sample\")\n",
    "plt.ylabel(\"Calinski-Harabasz Index\")\n",
    "plt.show()"
   ]
  },
  {
   "cell_type": "code",
   "execution_count": 20,
   "id": "7c3606d1",
   "metadata": {
    "execution": {
     "iopub.execute_input": "2022-04-17T19:25:27.694665Z",
     "iopub.status.busy": "2022-04-17T19:25:27.694399Z",
     "iopub.status.idle": "2022-04-17T19:25:27.900177Z",
     "shell.execute_reply": "2022-04-17T19:25:27.899313Z"
    },
    "papermill": {
     "duration": 0.250433,
     "end_time": "2022-04-17T19:25:27.902682",
     "exception": false,
     "start_time": "2022-04-17T19:25:27.652249",
     "status": "completed"
    },
    "tags": []
   },
   "outputs": [
    {
     "data": {
      "image/png": "[encoded data removed]",
      "text/plain": [
       "<Figure size 432x288 with 1 Axes>"
      ]
     },
     "metadata": {
      "needs_background": "light"
     },
     "output_type": "display_data"
    }
   ],
   "source": [
    "plt.figure()\n",
    "plt.plot(per, sil_score_sam)\n",
    "plt.savefig(\"pca_sim_vs_per_sample.png\")\n",
    "plt.xlabel(\"% of total sample\")\n",
    "plt.ylabel(\"Silhouette Coefficient\")\n",
    "plt.show()"
   ]
  },
  {
   "cell_type": "markdown",
   "id": "51df2465",
   "metadata": {
    "papermill": {
     "duration": 0.042979,
     "end_time": "2022-04-17T19:25:27.989390",
     "exception": false,
     "start_time": "2022-04-17T19:25:27.946411",
     "status": "completed"
    },
    "tags": []
   },
   "source": [
    "## Different Initialization"
   ]
  },
  {
   "cell_type": "code",
   "execution_count": 21,
   "id": "3438c132",
   "metadata": {
    "execution": {
     "iopub.execute_input": "2022-04-17T19:25:28.074170Z",
     "iopub.status.busy": "2022-04-17T19:25:28.073871Z",
     "iopub.status.idle": "2022-04-17T19:25:35.463167Z",
     "shell.execute_reply": "2022-04-17T19:25:35.462069Z"
    },
    "papermill": {
     "duration": 7.435221,
     "end_time": "2022-04-17T19:25:35.466287",
     "exception": false,
     "start_time": "2022-04-17T19:25:28.031066",
     "status": "completed"
    },
    "tags": []
   },
   "outputs": [
    {
     "name": "stdout",
     "output_type": "stream",
     "text": [
      "seed: 21 -> cost:603.331; cal:180.672; sil:0.195\n",
      "seed: 75 -> cost:619.554; cal:170.742; sil:0.182\n",
      "seed: 84 -> cost:643.371; cal:157.071; sil:0.160\n",
      "seed: 12 -> cost:624.812; cal:167.634; sil:0.179\n",
      "seed: 51 -> cost:602.507; cal:181.190; sil:0.198\n"
     ]
    }
   ],
   "source": [
    "seeds = [21, 75, 84, 12, 51]\n",
    "ls = len(seeds)\n",
    "cost_in = np.zeros(ls)\n",
    "cal_in = np.zeros(ls)\n",
    "sil_in = np.zeros(ls)\n",
    "for ij, seed in enumerate(seeds):\n",
    "    labels_in, cost_in[ij], cal_in[ij] = my_kmeans(X_proj, 10, seed=seed)[1:4]\n",
    "    sil_in[ij] = silhouette_score(X_proj, labels_in)\n",
    "    print(f\"seed: {seed} -> cost:{cost_in[ij]:.3f}; cal:{cal_in[ij]:.3f}; sil:{sil_in[ij]:.3f}\")"
   ]
  },
  {
   "cell_type": "markdown",
   "id": "37fe6386",
   "metadata": {
    "papermill": {
     "duration": 0.043021,
     "end_time": "2022-04-17T19:25:35.573140",
     "exception": false,
     "start_time": "2022-04-17T19:25:35.530119",
     "status": "completed"
    },
    "tags": []
   },
   "source": [
    "# Without PCA"
   ]
  },
  {
   "cell_type": "markdown",
   "id": "05c8dfd5",
   "metadata": {
    "papermill": {
     "duration": 0.043086,
     "end_time": "2022-04-17T19:25:35.659465",
     "exception": false,
     "start_time": "2022-04-17T19:25:35.616379",
     "status": "completed"
    },
    "tags": []
   },
   "source": [
    "## Variation wrt No of Clusters"
   ]
  },
  {
   "cell_type": "code",
   "execution_count": 22,
   "id": "17b99240",
   "metadata": {
    "execution": {
     "iopub.execute_input": "2022-04-17T19:25:35.747299Z",
     "iopub.status.busy": "2022-04-17T19:25:35.747045Z",
     "iopub.status.idle": "2022-04-17T19:25:52.581135Z",
     "shell.execute_reply": "2022-04-17T19:25:52.580296Z"
    },
    "papermill": {
     "duration": 16.880234,
     "end_time": "2022-04-17T19:25:52.582921",
     "exception": false,
     "start_time": "2022-04-17T19:25:35.702687",
     "status": "completed"
    },
    "tags": []
   },
   "outputs": [
    {
     "name": "stdout",
     "output_type": "stream",
     "text": [
      "k=2 -> cost:1071.9844924939644; calinski:216.83351873725192; sil:0.10805693446770007\n",
      "k=3 -> cost:963.1397562512182; calinski:221.97200839164736; sil:0.12594007980873465\n",
      "k=4 -> cost:897.3254538344669; calinski:202.58232767742942; sil:0.12823815120005538\n",
      "k=5 -> cost:842.835205271939; calinski:190.63311709290048; sil:0.13979644310009834\n",
      "k=6 -> cost:807.3477236850883; calinski:174.8660768558244; sil:0.14424120417866435\n",
      "k=7 -> cost:763.2294029124942; calinski:171.30417706484843; sil:0.14038248734744196\n",
      "k=8 -> cost:723.8563136294713; calinski:168.6338059817098; sil:0.15064571021755507\n",
      "k=9 -> cost:688.8895294531362; calinski:166.30197305903795; sil:0.16349684366629763\n",
      "k=10 -> cost:650.4929981195207; calinski:168.18210169035555; sil:0.17961557236891865\n",
      "k=11 -> cost:640.793944153933; calinski:156.27223849514968; sil:0.16454288578649362\n",
      "k=12 -> cost:625.241229966015; calinski:149.55448777293125; sil:0.16545270070601284\n",
      "k=13 -> cost:606.563304437686; calinski:145.81181175062738; sil:0.16616052275348947\n",
      "k=14 -> cost:594.015104255384; calinski:140.25901543982593; sil:0.1686950812429343\n"
     ]
    },
    {
     "data": {
      "image/png": "[encoded data removed]",
      "text/plain": [
       "<Figure size 432x288 with 1 Axes>"
      ]
     },
     "metadata": {
      "needs_background": "light"
     },
     "output_type": "display_data"
    }
   ],
   "source": [
    "K_w = 15\n",
    "cost_w = np.zeros(K_w-2)\n",
    "sil_score_w = np.zeros(K_w-2)\n",
    "cal_score_w = np.zeros(K_w-2)\n",
    "centroids_lst_w = []\n",
    "labels_w = np.zeros((K_w-1, X.shape[0]))\n",
    "\n",
    "for k in range(2, K_w):\n",
    "    centroids_w, labels_w[k-2], cost_w[k-2], cal_score_w[k-2] = my_kmeans(X, k)\n",
    "    centroids_lst_w.append(centroids_w)\n",
    "    sil_score_w[k-2] = silhouette_score(X, labels_w[k-2])\n",
    "    print(f\"k={k} -> cost:{cost_w[k-2]}; calinski:{cal_score_w[k-2]}; sil:{sil_score_w[k-2]}\")\n",
    "\n",
    "# print(f\"silhouette_score:{sil_score}\\nCost: {cost}\\ncalinski_harabasz_score: {cal_score}\")\n",
    "plot_cost(cost_w, K)"
   ]
  },
  {
   "cell_type": "code",
   "execution_count": 23,
   "id": "a55f0d54",
   "metadata": {
    "execution": {
     "iopub.execute_input": "2022-04-17T19:25:52.679771Z",
     "iopub.status.busy": "2022-04-17T19:25:52.679097Z",
     "iopub.status.idle": "2022-04-17T19:25:52.832240Z",
     "shell.execute_reply": "2022-04-17T19:25:52.831282Z"
    },
    "papermill": {
     "duration": 0.203597,
     "end_time": "2022-04-17T19:25:52.834377",
     "exception": false,
     "start_time": "2022-04-17T19:25:52.630780",
     "status": "completed"
    },
    "tags": []
   },
   "outputs": [
    {
     "data": {
      "image/png": "[encoded data removed]",
      "text/plain": [
       "<Figure size 432x288 with 1 Axes>"
      ]
     },
     "metadata": {
      "needs_background": "light"
     },
     "output_type": "display_data"
    }
   ],
   "source": [
    "plt.figure()\n",
    "plt.plot(range(2, K_w), cost_w)\n",
    "plt.savefig(\"no_pca_cost_vs_clusters.png\")\n",
    "plt.xlabel(\"No of clusters\")\n",
    "plt.ylabel(\"Cost\")\n",
    "plt.show()"
   ]
  },
  {
   "cell_type": "code",
   "execution_count": 24,
   "id": "7bb31803",
   "metadata": {
    "execution": {
     "iopub.execute_input": "2022-04-17T19:25:52.936390Z",
     "iopub.status.busy": "2022-04-17T19:25:52.936120Z",
     "iopub.status.idle": "2022-04-17T19:25:53.304393Z",
     "shell.execute_reply": "2022-04-17T19:25:53.303457Z"
    },
    "papermill": {
     "duration": 0.422004,
     "end_time": "2022-04-17T19:25:53.306631",
     "exception": false,
     "start_time": "2022-04-17T19:25:52.884627",
     "status": "completed"
    },
    "tags": []
   },
   "outputs": [
    {
     "data": {
      "image/png": "[encoded data removed]",
      "text/plain": [
       "<Figure size 432x288 with 1 Axes>"
      ]
     },
     "metadata": {
      "needs_background": "light"
     },
     "output_type": "display_data"
    }
   ],
   "source": [
    "plt.figure()\n",
    "plt.plot(range(2, K_w), cal_score_w)\n",
    "plt.savefig(\"no_pca_cal_vs_clusters.png\")\n",
    "plt.xlabel(\"% of total sample\")\n",
    "plt.ylabel(\"Calinski-Harabasz Index\")\n",
    "plt.show()"
   ]
  },
  {
   "cell_type": "code",
   "execution_count": 25,
   "id": "7a8ced08",
   "metadata": {
    "execution": {
     "iopub.execute_input": "2022-04-17T19:25:53.407508Z",
     "iopub.status.busy": "2022-04-17T19:25:53.406810Z",
     "iopub.status.idle": "2022-04-17T19:25:53.631718Z",
     "shell.execute_reply": "2022-04-17T19:25:53.630831Z"
    },
    "papermill": {
     "duration": 0.277397,
     "end_time": "2022-04-17T19:25:53.633627",
     "exception": false,
     "start_time": "2022-04-17T19:25:53.356230",
     "status": "completed"
    },
    "tags": []
   },
   "outputs": [
    {
     "data": {
      "image/png": "[encoded data removed]",
      "text/plain": [
       "<Figure size 432x288 with 1 Axes>"
      ]
     },
     "metadata": {
      "needs_background": "light"
     },
     "output_type": "display_data"
    }
   ],
   "source": [
    "plt.figure()\n",
    "plt.plot(range(2, K_w), sil_score_w)\n",
    "plt.savefig(\"no_pca_sil_vs_clusters.png\")\n",
    "plt.xlabel(\"% of total sample\")\n",
    "plt.ylabel(\"Silhouette Coefficient\")\n",
    "plt.show()"
   ]
  },
  {
   "cell_type": "markdown",
   "id": "e1210599",
   "metadata": {
    "papermill": {
     "duration": 0.049802,
     "end_time": "2022-04-17T19:25:53.733524",
     "exception": false,
     "start_time": "2022-04-17T19:25:53.683722",
     "status": "completed"
    },
    "tags": []
   },
   "source": [
    "## Variation wrt No of Samples"
   ]
  },
  {
   "cell_type": "code",
   "execution_count": 26,
   "id": "2eec4706",
   "metadata": {
    "execution": {
     "iopub.execute_input": "2022-04-17T19:25:53.836849Z",
     "iopub.status.busy": "2022-04-17T19:25:53.836562Z",
     "iopub.status.idle": "2022-04-17T19:26:01.153533Z",
     "shell.execute_reply": "2022-04-17T19:26:01.152843Z"
    },
    "papermill": {
     "duration": 7.370884,
     "end_time": "2022-04-17T19:26:01.155249",
     "exception": false,
     "start_time": "2022-04-17T19:25:53.784365",
     "status": "completed"
    },
    "tags": []
   },
   "outputs": [
    {
     "name": "stdout",
     "output_type": "stream",
     "text": [
      "j=0.10 -> cost:642.694; calinski:16.411; sil:0.145\n",
      "j=0.20 -> cost:674.610; calinski:30.290; sil:0.155\n",
      "j=0.30 -> cost:653.539; calinski:49.470; sil:0.171\n",
      "j=0.40 -> cost:687.670; calinski:59.704; sil:0.164\n",
      "j=0.50 -> cost:647.867; calinski:85.482; sil:0.187\n",
      "j=0.60 -> cost:657.766; calinski:98.715; sil:0.173\n",
      "j=0.70 -> cost:655.380; calinski:116.029; sil:0.185\n",
      "j=0.80 -> cost:664.052; calinski:128.964; sil:0.159\n",
      "j=0.90 -> cost:679.440; calinski:137.189; sil:0.162\n",
      "j=1.00 -> cost:648.405; calinski:169.363; sil:0.182\n"
     ]
    },
    {
     "data": {
      "image/png": "[encoded data removed]",
      "text/plain": [
       "<Figure size 432x288 with 1 Axes>"
      ]
     },
     "metadata": {
      "needs_background": "light"
     },
     "output_type": "display_data"
    }
   ],
   "source": [
    "ki_w = 10\n",
    "per_w = np.linspace(0.1, 1, num=10)\n",
    "z_w = per_w.shape[0]\n",
    "cost_sam_w = np.zeros(z_w)\n",
    "sil_score_sam_w = np.zeros(z_w)\n",
    "cal_score_sam_w = np.zeros(z_w)\n",
    "centroids_lst_sam_w = []\n",
    "labels_lst_sam_w = []\n",
    "for i, j in enumerate(per_w):\n",
    "    idx_w = np.random.choice(range(X.shape[0]), int(j*X.shape[0]), replace=False)\n",
    "    X_per_w = X[idx_w,:]\n",
    "#     print(i, j, X_per.shape[0])\n",
    "    centroids_sam_w, labels_sam_w, cost_sam_w[i], cal_score_sam_w[i] = my_kmeans(X_per_w, ki_w)\n",
    "    centroids_lst_sam_w.append(centroids_sam_w)\n",
    "    labels_lst_sam_w.append(labels_sam_w)\n",
    "    sil_score_sam_w[i] = silhouette_score(X_per_w, labels_lst_sam_w[i])\n",
    "    print(f\"j={j:.2f} -> cost:{cost_sam_w[i]:.3f}; calinski:{cal_score_sam_w[i]:.3f}; sil:{sil_score_sam_w[i]:.3f}\")\n",
    "\n",
    "plt.plot(per_w, cost_sam_w)\n",
    "plt.show()"
   ]
  },
  {
   "cell_type": "code",
   "execution_count": 27,
   "id": "88cd8a1b",
   "metadata": {
    "execution": {
     "iopub.execute_input": "2022-04-17T19:26:01.266798Z",
     "iopub.status.busy": "2022-04-17T19:26:01.266386Z",
     "iopub.status.idle": "2022-04-17T19:26:01.457729Z",
     "shell.execute_reply": "2022-04-17T19:26:01.457147Z"
    },
    "papermill": {
     "duration": 0.250179,
     "end_time": "2022-04-17T19:26:01.459628",
     "exception": false,
     "start_time": "2022-04-17T19:26:01.209449",
     "status": "completed"
    },
    "tags": []
   },
   "outputs": [
    {
     "data": {
      "image/png": "[encoded data removed]",
      "text/plain": [
       "<Figure size 432x288 with 1 Axes>"
      ]
     },
     "metadata": {
      "needs_background": "light"
     },
     "output_type": "display_data"
    }
   ],
   "source": [
    "plt.figure()\n",
    "plt.plot(per_w, cost_sam_w)\n",
    "plt.savefig(\"no_pca_cost_vs_per_sample.png\")\n",
    "plt.xlabel(\"% of total sample\")\n",
    "plt.ylabel(\"Cost\")\n",
    "plt.show()"
   ]
  },
  {
   "cell_type": "code",
   "execution_count": 28,
   "id": "d55894e6",
   "metadata": {
    "execution": {
     "iopub.execute_input": "2022-04-17T19:26:01.572969Z",
     "iopub.status.busy": "2022-04-17T19:26:01.572534Z",
     "iopub.status.idle": "2022-04-17T19:26:01.783933Z",
     "shell.execute_reply": "2022-04-17T19:26:01.783053Z"
    },
    "papermill": {
     "duration": 0.271265,
     "end_time": "2022-04-17T19:26:01.786112",
     "exception": false,
     "start_time": "2022-04-17T19:26:01.514847",
     "status": "completed"
    },
    "tags": []
   },
   "outputs": [
    {
     "data": {
      "image/png": "[encoded data removed]",
      "text/plain": [
       "<Figure size 432x288 with 1 Axes>"
      ]
     },
     "metadata": {
      "needs_background": "light"
     },
     "output_type": "display_data"
    }
   ],
   "source": [
    "plt.figure()\n",
    "plt.plot(per_w, cal_score_sam_w)\n",
    "plt.savefig(\"no_pca_cal_vs_per_sample.png\")\n",
    "plt.xlabel(\"% of total sample\")\n",
    "plt.ylabel(\"Calinski-Harabasz Index\")\n",
    "plt.show()"
   ]
  },
  {
   "cell_type": "code",
   "execution_count": 29,
   "id": "9dcc4742",
   "metadata": {
    "execution": {
     "iopub.execute_input": "2022-04-17T19:26:01.900030Z",
     "iopub.status.busy": "2022-04-17T19:26:01.899549Z",
     "iopub.status.idle": "2022-04-17T19:26:02.095872Z",
     "shell.execute_reply": "2022-04-17T19:26:02.094735Z"
    },
    "papermill": {
     "duration": 0.255532,
     "end_time": "2022-04-17T19:26:02.098170",
     "exception": false,
     "start_time": "2022-04-17T19:26:01.842638",
     "status": "completed"
    },
    "tags": []
   },
   "outputs": [
    {
     "data": {
      "image/png": "[encoded data removed]",
      "text/plain": [
       "<Figure size 432x288 with 1 Axes>"
      ]
     },
     "metadata": {
      "needs_background": "light"
     },
     "output_type": "display_data"
    }
   ],
   "source": [
    "plt.figure()\n",
    "plt.plot(per_w, sil_score_sam_w)\n",
    "plt.savefig(\"no_pca_sil_vs_per_sample.png\")\n",
    "plt.xlabel(\"% of total sample\")\n",
    "plt.ylabel(\"Silhouette Coefficient\")\n",
    "plt.show()"
   ]
  },
  {
   "cell_type": "markdown",
   "id": "b5032279",
   "metadata": {
    "papermill": {
     "duration": 0.056066,
     "end_time": "2022-04-17T19:26:02.211493",
     "exception": false,
     "start_time": "2022-04-17T19:26:02.155427",
     "status": "completed"
    },
    "tags": []
   },
   "source": [
    "## Different Initialization"
   ]
  },
  {
   "cell_type": "code",
   "execution_count": 30,
   "id": "d43fff5d",
   "metadata": {
    "execution": {
     "iopub.execute_input": "2022-04-17T19:26:02.326340Z",
     "iopub.status.busy": "2022-04-17T19:26:02.325944Z",
     "iopub.status.idle": "2022-04-17T19:26:13.439124Z",
     "shell.execute_reply": "2022-04-17T19:26:13.438084Z"
    },
    "papermill": {
     "duration": 11.174059,
     "end_time": "2022-04-17T19:26:13.442901",
     "exception": false,
     "start_time": "2022-04-17T19:26:02.268842",
     "status": "completed"
    },
    "tags": []
   },
   "outputs": [
    {
     "name": "stdout",
     "output_type": "stream",
     "text": [
      "seed: 48 -> cost:650.183; cal:168.357; sil:0.188\n",
      "seed: 14 -> cost:650.176; cal:168.361; sil:0.188\n",
      "seed: 97 -> cost:682.802; cal:150.829; sil:0.163\n",
      "seed: 62 -> cost:650.852; cal:167.980; sil:0.187\n",
      "seed: 53 -> cost:659.397; cal:163.230; sil:0.173\n"
     ]
    }
   ],
   "source": [
    "seeds_w = [48, 14, 97, 62, 53]\n",
    "ls_w = len(seeds_w)\n",
    "cost_in_w = np.zeros(ls_w)\n",
    "cal_in_w = np.zeros(ls_w)\n",
    "sil_in_w = np.zeros(ls_w)\n",
    "for ij, seed in enumerate(seeds_w):\n",
    "    labels_in_w, cost_in_w[ij], cal_in_w[ij] = my_kmeans(X, 10, seed=seed)[1:4]\n",
    "    sil_in_w[ij] = silhouette_score(X, labels_in_w)\n",
    "    print(f\"seed: {seed} -> cost:{cost_in_w[ij]:.3f}; cal:{cal_in_w[ij]:.3f}; sil:{sil_in_w[ij]:.3f}\")"
   ]
  }
 ],
 "metadata": {
  "kernelspec": {
   "display_name": "Python 3",
   "language": "python",
   "name": "python3"
  },
  "language_info": {
   "codemirror_mode": {
    "name": "ipython",
    "version": 3
   },
   "file_extension": ".py",
   "mimetype": "text/x-python",
   "name": "python",
   "nbconvert_exporter": "python",
   "pygments_lexer": "ipython3",
   "version": "3.7.12"
  },
  "papermill": {
   "default_parameters": {},
   "duration": 86.079735,
   "end_time": "2022-04-17T19:26:14.243312",
   "environment_variables": {},
   "exception": null,
   "input_path": "__notebook__.ipynb",
   "output_path": "__notebook__.ipynb",
   "parameters": {},
   "start_time": "2022-04-17T19:24:48.163577",
   "version": "2.3.4"
  }
 },
 "nbformat": 4,
 "nbformat_minor": 5
}
